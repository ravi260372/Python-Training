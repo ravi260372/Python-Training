{
 "cells": [
  {
   "cell_type": "markdown",
   "metadata": {},
   "source": [
    "# Numpy Tutorial   \n",
    "**Author : Ravi Mummigatti**  \n",
    "**Credits : Code Academy , Cloudx , Numpy.org**  \n",
    "**Pre-requisites : Basic knowledge of Python syntax , variables and operators**  "
   ]
  },
  {
   "cell_type": "markdown",
   "metadata": {},
   "source": [
    "# Introduction"
   ]
  },
  {
   "cell_type": "markdown",
   "metadata": {},
   "source": [
    "Sarah records her second-grade class’s grades in an online spreadsheet. Her web browser records that she visited that spreadsheet, in addition to every other site she’s visited. Those sites record her location, the time she spent on them, and where she visited next. The world is chock-full of all sorts of different datasets, and learning how to create, analyze, and manipulate these datasets can give us some insight and control over our digital surroundings.\n",
    "\n",
    "In this lesson, we’ll be constructing and manipulating single-variable datasets.  \n",
    "One way to think of a single-variable dataset is that it contains answers to a question. \n",
    "For instance, we might ask 100 people, “How tall are you?” Their heights in inches would form our dataset.\n",
    "To work with our datasets, we’ll be using a powerful Python module known as NumPy, which stands for Numerical Python.\n",
    "\n",
    "NumPy has many uses including:\n",
    "*    Efficiently working with many numbers at once\n",
    "*   Generating random numbers\n",
    "*   Performing many different numerical functions (i.e., calculating sin, cos, tan, mean, median, etc.)\n",
    "\n",
    "\n",
    "To use NumPy with Python, import it at the top of your file using the following line: **import numpy as np**  \n",
    "Writing as np allows us to use np as a shorthand for NumPy, which saves us time when calling a NumPy function (less typing = fewer errors!) "
   ]
  },
  {
   "cell_type": "markdown",
   "metadata": {},
   "source": [
    "NumPy includes a powerful data structure known as an **array**.  \n",
    "A NumPy array is a special type of list , a data structure that organizes multiple items.   \n",
    "Each item can be of any type (strings, numbers, or even other arrays).\n",
    "\n",
    "Arrays are most powerful when they are used to store numbers. This is because arrays give us special ways of performing mathematical operations that are both simpler to write and more efficient computationally. We’ll get more into this later.  \n",
    "\n",
    "A NumPy array is a multi-dimensional array, whose elements are usually numbers of the same data type. You can access each element of the NumPy array by using indexes. Indexes in the NumPy array starts with 0.\n",
    "\n",
    "e.g. my_array[1,3], which means the element in the second row and fourth column.\n",
    "\n",
    "**Axis in NumPy array**  \n",
    "For a 2-D NumPy array:\n",
    "    `axis = 0` refers to rows of the array\n",
    "    `axis = 1` refers to columns of the array\n",
    "For a 3-D NumPy array, there will be another axis i.e. axis = 2.\n",
    "\n",
    "This information of axis is used heavily in NumPy matrix (multi-dimensional arrays) manipulations.\n",
    "\n",
    "**Rank**  \n",
    "The rank of a NumPy array is the number of dimensions of the array.\n",
    "\n",
    "e.g. if there is a NumPy array (matrix) of dimension 2x3 (i.e. 2 rows and 3 columns), then the rank of this matrix (array) is 2 since it is a 2-dimensional array.\n",
    "\n",
    "**Shape**  \n",
    "The shape of a NumPy array is the dimensions of that array.\n",
    "\n",
    "e.g. if an array (matrix) has dimensions of 2x3, then the shape of this array (matrix) is (2,3) i.e. 2 rows and 3 columns.\n",
    "\n",
    "**Creating a NumPy array**  \n",
    "A NumPy array can be created in either of the below ways:  \n",
    "    Through passing a Python list  \n",
    "    Through passing a Python tuple  \n",
    "\n"
   ]
  },
  {
   "cell_type": "markdown",
   "metadata": {},
   "source": [
    "**Question :** What are some differences between an array and a list?\n",
    "\n",
    "**Answer :** In Python, an array, or NumPy Array, and list share many similarities, but they also have some important differences on how they can be used.\n",
    "\n",
    "* Both arrays and lists can hold multiple items of any type. You can also access individual items by indexes.\n",
    "\n",
    "* One important, and probably the main difference, between them is that you can perform operations on an array, like addition, multiplication, and subtraction, like you would a vector in mathematics.\n",
    "\n",
    "* If you have an array of numbers, you can add a single number to every value in the array with one operation. With a list, operations cannot be applied on every single element like for an array, and might even cause errors.  \n",
    "\n",
    "test = np.array([1, 2, 3, 4, 5])  \n",
    "test += 10\n",
    "\n",
    "The array is now [11, 12, 13, 14, 15]"
   ]
  },
  {
   "cell_type": "markdown",
   "metadata": {},
   "source": [
    "# Creating an Array"
   ]
  },
  {
   "cell_type": "markdown",
   "metadata": {},
   "source": [
    "## Create Array manually from a list"
   ]
  },
  {
   "cell_type": "markdown",
   "metadata": {},
   "source": [
    "A NumPy array looks a lot like a Python list:\n",
    "\n",
    "my_array = np.array([1, 2, 3, 4, 5, 6])\n",
    "\n",
    "We can transform a regular list into a NumPy array by using **np.array()** and saving the value to a new variable:\n",
    "\n",
    "my_list = [1, 2, 3, 4, 5, 6]  \n",
    "my_array = np.array(my_list)\n"
   ]
  },
  {
   "cell_type": "markdown",
   "metadata": {},
   "source": [
    "Imagine you’re a teacher and you need to keep track of your student’s test scores. On the first test, the students received the following scores:\n",
    "\n",
    "92, 94, 88, 91, 87\n",
    "\n",
    "Create a NumPy array with these values and save it with the name test_1.\n"
   ]
  },
  {
   "cell_type": "code",
   "execution_count": 1,
   "metadata": {},
   "outputs": [
    {
     "data": {
      "text/plain": [
       "array([92, 94, 88, 91, 87])"
      ]
     },
     "execution_count": 1,
     "metadata": {},
     "output_type": "execute_result"
    }
   ],
   "source": [
    "my_list = [92,94,88,91,87]\n",
    "test_1 = np.array(my_list)\n",
    "test_1"
   ]
  },
  {
   "cell_type": "code",
   "execution_count": 2,
   "metadata": {},
   "outputs": [
    {
     "name": "stdout",
     "output_type": "stream",
     "text": [
      "[1 2 3]\n"
     ]
    }
   ],
   "source": [
    "sample_list = [1,2,3] # create a list\n",
    "\n",
    "list_array = np.array(sample_list) # create an array by using the \"np.array\" method\n",
    "\n",
    "print(list_array) # print the array"
   ]
  },
  {
   "cell_type": "markdown",
   "metadata": {},
   "source": [
    "## Creating an Array by passing a tuple  \n"
   ]
  },
  {
   "cell_type": "code",
   "execution_count": 3,
   "metadata": {},
   "outputs": [
    {
     "name": "stdout",
     "output_type": "stream",
     "text": [
      "[1 2 3]\n"
     ]
    }
   ],
   "source": [
    "my_tup = (1,2,3) # create a tuple\n",
    "\n",
    "tup_array = np.array(my_tup) # create an array by using \"np.array\" method\n",
    "\n",
    "print(tup_array)"
   ]
  },
  {
   "cell_type": "markdown",
   "metadata": {},
   "source": [
    "## Creating an Array from a CSV  \n",
    "Typically, you won’t be entering data directly into an array. Instead, you’ll be importing the data from somewhere else.\n",
    "\n",
    "We’re able to transform CSV (comma-separated values) files into arrays using the np.genfromtxt() function:\n",
    "\n",
    "Consider the following CSV, sample.csv, (34,9,12,11,7)\n",
    "\n",
    "We can import this into a NumPy array using the following code: \n",
    "**csv_array = np.genfromtxt('sample.csv', delimiter=',')**  \n",
    "\n",
    "Note that in this case, our file sample.csv has values separated by commas, so we use delimiter=',', but sometimes you’ll find files with other delimiters, the most common being tabs or colons.\n",
    "\n",
    "Once imported, this CSV will create the array\n",
    "\n",
    "...csv_array  \n",
    "array([34, 9, 12, 11, 7])"
   ]
  },
  {
   "cell_type": "markdown",
   "metadata": {},
   "source": [
    "## Time comparison of a NumPy operation and a corresponding Python code"
   ]
  },
  {
   "cell_type": "markdown",
   "metadata": {},
   "source": [
    "Let us create the below function (multiply_loops) which takes two arrays as input and computes their multiplication using normal Python way."
   ]
  },
  {
   "cell_type": "code",
   "execution_count": 4,
   "metadata": {},
   "outputs": [],
   "source": [
    "def multiply_loops(A, B):\n",
    "    c=np.zeros((A.shape[0], B.shape[1]))\n",
    "    for i in range(A.shape[0]):\n",
    "        for k in range(B.shape[1]):\n",
    "            c[i,k] = 0\n",
    "            for j in range(B.shape[0]):\n",
    "                n = A[i,j] * B[j,k]\n",
    "                c[i,k] += n\n",
    "    return c"
   ]
  },
  {
   "cell_type": "markdown",
   "metadata": {},
   "source": [
    "Now, let us create the below function (multiply_vector) which takes two arrays as input and computes their multiplication using NumPy's vector multiplication way."
   ]
  },
  {
   "cell_type": "code",
   "execution_count": 5,
   "metadata": {},
   "outputs": [],
   "source": [
    "def multiply_vector(A, B):\n",
    "     return A @ B"
   ]
  },
  {
   "cell_type": "markdown",
   "metadata": {},
   "source": [
    "Let us create two randomly generated 100x100 matrices - X and Y - to test the above functions"
   ]
  },
  {
   "cell_type": "code",
   "execution_count": 6,
   "metadata": {},
   "outputs": [],
   "source": [
    "X = np.random.random((100, 100))\n",
    "Y = np.random.random((100, 100))"
   ]
  },
  {
   "cell_type": "markdown",
   "metadata": {},
   "source": [
    "Now we will execute the command (timeit) , which will output you the time taken by each of these functions"
   ]
  },
  {
   "cell_type": "code",
   "execution_count": 7,
   "metadata": {},
   "outputs": [
    {
     "name": "stdout",
     "output_type": "stream",
     "text": [
      "545 ms ± 7.18 ms per loop (mean ± std. dev. of 7 runs, 1 loop each)\n",
      "34.4 µs ± 759 ns per loop (mean ± std. dev. of 7 runs, 10000 loops each)\n"
     ]
    }
   ],
   "source": [
    "%timeit multiply_loops(X, Y)\n",
    "%timeit multiply_vector(X, Y)"
   ]
  },
  {
   "cell_type": "markdown",
   "metadata": {},
   "source": [
    "**Array Multiplication is Multiple Magnitudes faster than Standard Loops**"
   ]
  },
  {
   "cell_type": "markdown",
   "metadata": {},
   "source": [
    "# Creating Special Arrays"
   ]
  },
  {
   "cell_type": "markdown",
   "metadata": {},
   "source": [
    "In addition to the normal NumPy arrays that we created , there are few special NumPy arrays that you can create.\n",
    "\n",
    "For example:  \n",
    "1. NumPy array with all its elements values as zero (using zeros() function of NumPy)\n",
    "2. NumPy array with all its elements values as one (using ones() function of NumPy)\n",
    "3. NumPy array with all its elements values as a specific given value (using full() function of NumPy)\n",
    "4. Identity matrix or array\n"
   ]
  },
  {
   "cell_type": "markdown",
   "metadata": {},
   "source": [
    "### Creating NumPy array with all its elements values as zero (using zeros() function of NumPy)"
   ]
  },
  {
   "cell_type": "code",
   "execution_count": 8,
   "metadata": {},
   "outputs": [
    {
     "name": "stdout",
     "output_type": "stream",
     "text": [
      "[[0. 0. 0. 0.]\n",
      " [0. 0. 0. 0.]\n",
      " [0. 0. 0. 0.]]\n"
     ]
    }
   ],
   "source": [
    "# Create a tuple indicating dimensions of the desired array\n",
    "tup_dim = (3,4)\n",
    "\n",
    "# Now, create your NumPy array by passing the above tuple (tup_dim) to zeros() function\n",
    "my_zero_array = np.zeros(tup_dim)\n",
    "\n",
    "# print the array\n",
    "print(my_zero_array)"
   ]
  },
  {
   "cell_type": "markdown",
   "metadata": {},
   "source": [
    "### Creating NumPy array with all its elements values as one (using ones() function of NumPy)"
   ]
  },
  {
   "cell_type": "code",
   "execution_count": 9,
   "metadata": {},
   "outputs": [
    {
     "name": "stdout",
     "output_type": "stream",
     "text": [
      "[[1. 1. 1. 1.]\n",
      " [1. 1. 1. 1.]\n",
      " [1. 1. 1. 1.]]\n"
     ]
    }
   ],
   "source": [
    "# Create a tuple indicating dimensions of the desired array\n",
    "tup_dim = (3,4)\n",
    "\n",
    "# Now, create your NumPy array by passing the above tuple (tup_dim) to ones() function\n",
    "my_one_array = np.ones(tup_dim)\n",
    "\n",
    "# print the array\n",
    "print(my_one_array)"
   ]
  },
  {
   "cell_type": "markdown",
   "metadata": {},
   "source": [
    "### Creating NumPy array with all its elements values as a specific given value (using full() function of NumPy)"
   ]
  },
  {
   "cell_type": "code",
   "execution_count": 10,
   "metadata": {},
   "outputs": [
    {
     "name": "stdout",
     "output_type": "stream",
     "text": [
      "[[7 7 7 7]\n",
      " [7 7 7 7]\n",
      " [7 7 7 7]]\n"
     ]
    }
   ],
   "source": [
    "# Create a tuple indicating dimensions of the desired array\n",
    "tup_dim = (3,4)\n",
    "\n",
    "# Now, create your NumPy array by passing the above tuple (tup_dim) to full() function , \n",
    "# along with the desired value that you want the array to be filled with (e.g. say value 7)\n",
    "my_seven_array = np.full(tup_dim , 7)\n",
    "\n",
    "# print the array\n",
    "print(my_seven_array)\n"
   ]
  },
  {
   "cell_type": "markdown",
   "metadata": {},
   "source": [
    "###  Creating Identity matrix or array  \n",
    "Identity matrix (array) is a square matrix with all its elements as zero (0) except for the diagonal elements whose value is one (1). That is, all the main diagonal values are 1s (one).\n",
    "\n",
    "You can create an Identity matrix by using numpy's identity() function by passing the desired dimension of the matrix (array) and the data type required.\n",
    "\n",
    "e.g. np.identity(2, dtype=float) will create a 2x2 matrix with all its values as 0.0 except for the diagonal values which will be 1.0"
   ]
  },
  {
   "cell_type": "code",
   "execution_count": 11,
   "metadata": {},
   "outputs": [
    {
     "name": "stdout",
     "output_type": "stream",
     "text": [
      "[[1. 0. 0. 0.]\n",
      " [0. 1. 0. 0.]\n",
      " [0. 0. 1. 0.]\n",
      " [0. 0. 0. 1.]]\n"
     ]
    }
   ],
   "source": [
    "# Create a 4X4 Identity Matrix of floats\n",
    "my_identity = np.identity(4 , dtype = np.float64)\n",
    "\n",
    "# print the array\n",
    "print(my_identity)"
   ]
  },
  {
   "cell_type": "markdown",
   "metadata": {},
   "source": [
    "### Creating special Types of Arrays with Random Values   \n",
    "NumPy array with all its elements values as random values (using random.rand() function of NumPy)\n",
    "\n",
    "The NumPy array will have random float values between 0.0 and 1.0"
   ]
  },
  {
   "cell_type": "code",
   "execution_count": 12,
   "metadata": {},
   "outputs": [
    {
     "data": {
      "text/plain": [
       "array([[0.01643945, 0.17882462, 0.24134019, 0.12463315],\n",
       "       [0.98457927, 0.72765622, 0.03883278, 0.96251353],\n",
       "       [0.04902869, 0.56146551, 0.77077972, 0.14665655]])"
      ]
     },
     "execution_count": 12,
     "metadata": {},
     "output_type": "execute_result"
    }
   ],
   "source": [
    "# Create your NumPy array by passing the above the desired dimensions of the array (say (3,4)) to random.rand()\n",
    "my_random_array = np.random.rand(3,4)\n",
    "\n",
    "my_random_array"
   ]
  },
  {
   "cell_type": "markdown",
   "metadata": {},
   "source": [
    "### Creating a NumPy array by passing a range of values (using arange() function of NumPy)  \n",
    "Suppose you want to create a NumPy array whose values should lie between 10 and 30 and the values should have a gap of the value of 5\n",
    "\n",
    "To create this NumPy array, pass the start value (10), end value (30) and the gap value 5, to the arange()  \n",
    "\n",
    "The above NumPy array will be filled with values between 10 and 30 (excluding 30) having a gap of the value of 5 between the consecutive values\n",
    "\n",
    "**Note: Start value 10 , Skip 5 Elemnets , End Value does not include 30**"
   ]
  },
  {
   "cell_type": "code",
   "execution_count": 13,
   "metadata": {},
   "outputs": [
    {
     "name": "stdout",
     "output_type": "stream",
     "text": [
      "[10 15 20 25]\n"
     ]
    }
   ],
   "source": [
    "# create an array with values between 10 and 30 with a gap of 5\n",
    "my_range_array = np.arange(10 , 30 , 5)\n",
    "\n",
    "print(my_range_array)"
   ]
  },
  {
   "cell_type": "markdown",
   "metadata": {},
   "source": [
    "### Creating a NumPy array by passing an equally spaced range of values (using linspace() function of NumPy)  \n",
    "Suppose you want to create a NumPy array whose values should lie between 0 and 5/3 and the consecutive values should have an equal amount of gap between them (equally spaced values).\n",
    "\n",
    "To create this NumPy array, pass the start value (0), end value (36), and the total number of values you want (say 6), to the linspace()  \n",
    "\n",
    "The above NumPy array will have total of 6 values with values ranging between 0 and 36 (including 36) and having an equal amount of gap between the consecutive values"
   ]
  },
  {
   "cell_type": "code",
   "execution_count": 14,
   "metadata": {},
   "outputs": [
    {
     "data": {
      "text/plain": [
       "array([ 0., 12., 24., 36.])"
      ]
     },
     "execution_count": 14,
     "metadata": {},
     "output_type": "execute_result"
    }
   ],
   "source": [
    "# create an equally spaced array starting at 0 , ending at 36 , spaced into 4 equal spaces\n",
    "my_spaced_array = np.linspace(0 , 36 , 4)\n",
    "\n",
    "my_spaced_array"
   ]
  },
  {
   "cell_type": "markdown",
   "metadata": {},
   "source": [
    "# Attributes of a NumPy Array  \n",
    "NumPy array (ndarray class) is the most used construct of NumPy in Machine Learning and Deep Learning. Let us look into some important attributes of this NumPy array."
   ]
  },
  {
   "cell_type": "code",
   "execution_count": 15,
   "metadata": {},
   "outputs": [
    {
     "data": {
      "text/plain": [
       "array([[3, 4, 6],\n",
       "       [0, 8, 1]])"
      ]
     },
     "execution_count": 15,
     "metadata": {},
     "output_type": "execute_result"
    }
   ],
   "source": [
    "# create an array\n",
    "array_A = np.array([[3,4,6], [0,8,1]])\n",
    "array_A"
   ]
  },
  {
   "cell_type": "markdown",
   "metadata": {},
   "source": [
    "## ndarray.ndim : dimensions  \n",
    "ndim represents the number of dimensions (axes) of the ndarray.\n",
    "\n",
    "e.g. for this 2-dimensional array [ [3,4,6], [0,8,1]], value of ndim will be 2.   \n",
    "This ndarray has two dimensions (axes) - rows (axis=0) and columns (axis=1)"
   ]
  },
  {
   "cell_type": "code",
   "execution_count": 16,
   "metadata": {},
   "outputs": [
    {
     "data": {
      "text/plain": [
       "array([[ 1,  4,  5,  6],\n",
       "       [ 7,  8,  9, 10],\n",
       "       [11, 12, 14, 16]])"
      ]
     },
     "execution_count": 16,
     "metadata": {},
     "output_type": "execute_result"
    }
   ],
   "source": [
    "my_array = np.array([[1, 4, 5, 6], [7, 8, 9, 10], [11, 12, 14, 16]])\n",
    "my_array"
   ]
  },
  {
   "cell_type": "code",
   "execution_count": 17,
   "metadata": {},
   "outputs": [
    {
     "data": {
      "text/plain": [
       "2"
      ]
     },
     "execution_count": 17,
     "metadata": {},
     "output_type": "execute_result"
    }
   ],
   "source": [
    "my_array.ndim"
   ]
  },
  {
   "cell_type": "code",
   "execution_count": 18,
   "metadata": {},
   "outputs": [
    {
     "data": {
      "text/plain": [
       "2"
      ]
     },
     "execution_count": 18,
     "metadata": {},
     "output_type": "execute_result"
    }
   ],
   "source": [
    "array_A.ndim"
   ]
  },
  {
   "cell_type": "markdown",
   "metadata": {},
   "source": [
    "## ndarray.shape : size  \n",
    "shape is a tuple of integers representing the size of the ndarray in each dimension.\n",
    "\n",
    "e.g. for this 2-dimensional array [ [3,4,6], [0,8,1]], value of shape will be (2,3) because this ndarray has two dimensions - rows and columns - and the number of rows is 2 and the number of columns is 3"
   ]
  },
  {
   "cell_type": "code",
   "execution_count": 19,
   "metadata": {},
   "outputs": [
    {
     "name": "stdout",
     "output_type": "stream",
     "text": [
      "[[3 4 6]\n",
      " [0 8 1]]\n"
     ]
    },
    {
     "data": {
      "text/plain": [
       "(2, 3)"
      ]
     },
     "execution_count": 19,
     "metadata": {},
     "output_type": "execute_result"
    }
   ],
   "source": [
    "print(array_A)\n",
    "array_A.shape\n",
    "\n",
    "# array with 2 rows and 3 columns"
   ]
  },
  {
   "cell_type": "code",
   "execution_count": 20,
   "metadata": {},
   "outputs": [
    {
     "name": "stdout",
     "output_type": "stream",
     "text": [
      "[[ 1  4  5  6]\n",
      " [ 7  8  9 10]\n",
      " [11 12 14 16]]\n"
     ]
    },
    {
     "data": {
      "text/plain": [
       "(3, 4)"
      ]
     },
     "execution_count": 20,
     "metadata": {},
     "output_type": "execute_result"
    }
   ],
   "source": [
    "print(my_array)\n",
    "my_array.shape\n",
    "\n",
    "# array of 3 rows and 4 columns"
   ]
  },
  {
   "cell_type": "markdown",
   "metadata": {},
   "source": [
    "## ndarray.size : total number of elements  \n",
    "size is the total number of elements in the ndarray. It is equal to the product of elements of the shape.   \n",
    "e.g. for this 2-dimensional array [ [3,4,6], [0,8,1]], shape is (2,3), size will be product (multiplication) of 2 and 3 i.e. (2*3) = 6. Hence, the size is 6."
   ]
  },
  {
   "cell_type": "code",
   "execution_count": 21,
   "metadata": {},
   "outputs": [
    {
     "name": "stdout",
     "output_type": "stream",
     "text": [
      "[[3 4 6]\n",
      " [0 8 1]]\n"
     ]
    },
    {
     "data": {
      "text/plain": [
       "6"
      ]
     },
     "execution_count": 21,
     "metadata": {},
     "output_type": "execute_result"
    }
   ],
   "source": [
    "print(array_A)\n",
    "\n",
    "array_A.size\n",
    "\n",
    "# array of 6 elements i.e. 2 Rows * 3 Columns"
   ]
  },
  {
   "cell_type": "code",
   "execution_count": 22,
   "metadata": {},
   "outputs": [
    {
     "name": "stdout",
     "output_type": "stream",
     "text": [
      "[[ 1  4  5  6]\n",
      " [ 7  8  9 10]\n",
      " [11 12 14 16]]\n"
     ]
    },
    {
     "data": {
      "text/plain": [
       "12"
      ]
     },
     "execution_count": 22,
     "metadata": {},
     "output_type": "execute_result"
    }
   ],
   "source": [
    "print(my_array)\n",
    "\n",
    "my_array.size\n",
    "\n",
    "# array of 12 elements i.e. 3 Rows * 4 Columns"
   ]
  },
  {
   "cell_type": "markdown",
   "metadata": {},
   "source": [
    "## ndarray.dtype : data types  \n",
    "dtype tells the data type of the elements of a NumPy array. In NumPy array, all the elements have the same data type.\n",
    "\n",
    "e.g. for this NumPy array [ [3,4,6], [0,8,1]], dtype will be int64"
   ]
  },
  {
   "cell_type": "code",
   "execution_count": 23,
   "metadata": {},
   "outputs": [
    {
     "data": {
      "text/plain": [
       "dtype('int32')"
      ]
     },
     "execution_count": 23,
     "metadata": {},
     "output_type": "execute_result"
    }
   ],
   "source": [
    "array_A.dtype\n",
    "\n",
    "# array of integers"
   ]
  },
  {
   "cell_type": "code",
   "execution_count": 24,
   "metadata": {},
   "outputs": [
    {
     "data": {
      "text/plain": [
       "dtype('int32')"
      ]
     },
     "execution_count": 24,
     "metadata": {},
     "output_type": "execute_result"
    }
   ],
   "source": [
    "my_array.dtype\n",
    "\n",
    "# array of integers"
   ]
  },
  {
   "cell_type": "markdown",
   "metadata": {},
   "source": [
    "## ndarray.itemsize : size in bytes of every element  \n",
    "itemsize returns the size (in bytes) of each element of a NumPy array.\n",
    "\n",
    "e.g. for this NumPy array [ [3,4,6], [0,8,1]], itemsize will be 4, because this array consists of integers and size of integer (in bytes) is 8 bytes."
   ]
  },
  {
   "cell_type": "code",
   "execution_count": 25,
   "metadata": {},
   "outputs": [
    {
     "data": {
      "text/plain": [
       "4"
      ]
     },
     "execution_count": 25,
     "metadata": {},
     "output_type": "execute_result"
    }
   ],
   "source": [
    "array_A.itemsize"
   ]
  },
  {
   "cell_type": "code",
   "execution_count": 26,
   "metadata": {},
   "outputs": [
    {
     "data": {
      "text/plain": [
       "4"
      ]
     },
     "execution_count": 26,
     "metadata": {},
     "output_type": "execute_result"
    }
   ],
   "source": [
    "my_array.itemsize"
   ]
  },
  {
   "cell_type": "markdown",
   "metadata": {},
   "source": [
    "# Loading Text Files "
   ]
  },
  {
   "cell_type": "markdown",
   "metadata": {},
   "source": [
    "Although Pandas provides better ways and constructs to load a dataset from various sources like files, databases, etc. we should also know the NumPy constructs for the same.\n",
    "\n",
    "There are two ways (constructs) in NumPy to load data from a text file:\n",
    "\n",
    "(1) using loadtxt() function\n",
    "\n",
    "(2) using genfromtxt() function\n",
    "\n",
    "loadtxt() function provides less flexibility, whereas genfromtxt() function provides more flexibility.\n",
    "\n",
    "For example, genfromtxt() function also handles the missing values kind of scenarios in the loaded dataset, whereas loadtxt() function doesn't.  \n",
    "\n",
    "Example of loadtxt()  \n",
    "..........................................................................  \n",
    "import numpy as np  \n",
    "name_arr, address_arr, zipcode_arr = np.loadtxt('my_file.txt', skiprows=2, unpack=True)  \n",
    ".........................................................................  \n",
    "\n",
    "The above piece of code will load the data from my_file.txt text file.\n",
    "\n",
    "skiprows=2 means, skip the first two rows of the my_file.txt file while loading the data.\n",
    "\n",
    "unpack=True means, unpack the columns of the dataset being loaded and return the data of each column separately in separate arrays ( name column data in name_arr array, address column data in address_arr array, zipcode column data in zipcode_arr array).\n",
    "\n",
    "unpack=False means, return only a single array as output from the loadtxt() function"
   ]
  },
  {
   "cell_type": "markdown",
   "metadata": {},
   "source": [
    "## Loading a text file data using NumPy's loadtxt() function"
   ]
  },
  {
   "cell_type": "markdown",
   "metadata": {},
   "source": [
    "#### import required libraries"
   ]
  },
  {
   "cell_type": "code",
   "execution_count": 27,
   "metadata": {},
   "outputs": [],
   "source": [
    "import numpy as np\n",
    "import os"
   ]
  },
  {
   "cell_type": "markdown",
   "metadata": {},
   "source": [
    "#### load using pandas  \n",
    "Now we will use pandas to load data from a large csv file (California housing dataset) and create a small csv file (of housing data) by extracting only few rows of data from this large housing.csv file.\n",
    "\n",
    "We are creating a smaller csv file of data, just for our convenience, to make it easy for us to load it using loadtxt() function"
   ]
  },
  {
   "cell_type": "code",
   "execution_count": 28,
   "metadata": {},
   "outputs": [],
   "source": [
    "import pandas as pd\n",
    "# defining housing.csv file path\n",
    "HOUSING_PATH = 'C:/Users/rmummiga/Desktop/PYTHON_TRAINING/PYTHON_CODE_ACADEMY'\n",
    "# reading the large housing.csv file using pandas\n",
    "housing_raw = pd.read_csv(os.path.join(HOUSING_PATH, \"housing.csv\"))\n",
    "# extracting only a few rows (5 rows) of data from the pandas dataframe 'my_df'\n",
    "my_df = housing_raw.iloc[ : 5]\n",
    "# creating a new small csv file - 'housing_short.csv' - containing the above extracted 5 rows of data\n",
    "my_df.to_csv('housing_short.csv', index=False)"
   ]
  },
  {
   "cell_type": "markdown",
   "metadata": {},
   "source": [
    "#### Load using Numpy  \n",
    "Now, let us load the csv file - housing_short.csv - using NumPy's loadtxt() function\n",
    "\n",
    "please define a variable called FILE and assign to it the string value housing_short.csv."
   ]
  },
  {
   "cell_type": "code",
   "execution_count": 29,
   "metadata": {},
   "outputs": [],
   "source": [
    "FILE = 'housing_short.csv'"
   ]
  },
  {
   "cell_type": "markdown",
   "metadata": {},
   "source": [
    "#### Create a Function to load data file  \n",
    "we define a function called load_housing_data(), which takes filename (FILE) as input and loads this file using NumPy's loadtxt() function"
   ]
  },
  {
   "cell_type": "code",
   "execution_count": 30,
   "metadata": {},
   "outputs": [
    {
     "name": "stdout",
     "output_type": "stream",
     "text": [
      "   longitude  latitude  housing_median_age  total_rooms  total_bedrooms  \\\n",
      "0    -122.23     37.88                  41          880           129.0   \n",
      "1    -122.22     37.86                  21         7099          1106.0   \n",
      "2    -122.24     37.85                  52         1467           190.0   \n",
      "3    -122.25     37.85                  52         1274           235.0   \n",
      "4    -122.25     37.85                  52         1627           280.0   \n",
      "\n",
      "   population  households  median_income  median_house_value ocean_proximity  \n",
      "0         322         126         8.3252              452600        NEAR BAY  \n",
      "1        2401        1138         8.3014              358500        NEAR BAY  \n",
      "2         496         177         7.2574              352100        NEAR BAY  \n",
      "3         558         219         5.6431              341300        NEAR BAY  \n",
      "4         565         259         3.8462              342200        NEAR BAY  \n",
      "[452600. 358500. 352100. 341300. 342200.]\n"
     ]
    }
   ],
   "source": [
    "# import the required libraries\n",
    "import pandas as pd\n",
    "import os\n",
    "\n",
    "# define load data funcction\n",
    "def load_housing_data(file):\n",
    "    return np.loadtxt(file, dtype={'names': ('longitude','latitude','housing_median_age','total_rooms','total_bedrooms','population','households','median_income','median_house_value','ocean_proximity'),'formats': ('f8', 'f8', 'f8', 'f8', 'f8', 'f8', 'f8', 'f8', 'f8', '|S15')}, delimiter=',', skiprows=1, unpack=True)\n",
    "\n",
    "# specify the file path \n",
    "HOUSING_PATH = 'C:/Users/rmummiga/Desktop/PYTHON_TRAINING/PYTHON_CODE_ACADEMY'\n",
    "\n",
    "# specify the file and join it to the path\n",
    "HOUSING_FILE = os.path.join(HOUSING_PATH, \"housing.csv\")\n",
    "\n",
    "# specify name of the new file to be created : sort version of data with limited columns\n",
    "mfile='housing_short.csv'\n",
    "\n",
    "# read the data\n",
    "housing_raw = pd.read_csv(HOUSING_FILE)\n",
    "print(housing_raw.head(5))\n",
    "\n",
    "# select only 5 columns\n",
    "my_df = housing_raw.iloc[ : 5]\n",
    "\n",
    "# write back and store as new file\n",
    "my_df.to_csv(mfile,index=False)\n",
    "\n",
    "# assign individual arrays\n",
    "longitude_arr,latitude_arr,housing_median_age_arr,total_rooms_arr,total_bedrooms_arr,population_arr,households_arr,median_income_arr,median_house_value_arr,ocean_proximity_arr = load_housing_data(mfile)\n",
    "\n",
    "print(median_house_value_arr)"
   ]
  },
  {
   "cell_type": "markdown",
   "metadata": {},
   "source": [
    "loadtxt() function parameters\n",
    "\n",
    "* first parameter - file. It is the name of the file from which the data is to be loaded.\n",
    "\n",
    "* second parameter - data type dtype of columns of the loaded csv file housing_short.csv. It is a Python dictionary with key as names of the columns, and values as the data types of these respective columns e.g. f8, |S15, etc.\n",
    "\n",
    "* 'f8' means 64-bit floating-point number\n",
    "\n",
    "* '|S15' -means a string of length of 15 characters\n",
    "\n",
    "* third parameter - delimiter. It is the character by which values in a row of our csv file are separated. For example, in our case values of a row of our csv file - housing_short.csv - are separated by ',' (comma)\n",
    "\n",
    "* fourth parameter - skiprows. You can specify here, how many initial rows of the csv file you want to skip loading. E.g. you may want to skip the first row of this csv file, as it may contain header information in the first row, which you may not want to load.\n",
    "\n",
    "* fifth parameter - unpack. When unpack is True, the returned array is transposed, so that arguments may be unpacked using x, y, z = loadtxt(...). When used with a structured data-type, arrays are returned for each field. The default value for unpack is False. But here we are returning the individual arrays so we have kept it here asTrue."
   ]
  },
  {
   "cell_type": "markdown",
   "metadata": {},
   "source": [
    "#### Call the Function load_housing_data"
   ]
  },
  {
   "cell_type": "code",
   "execution_count": 31,
   "metadata": {},
   "outputs": [
    {
     "data": {
      "text/plain": [
       "[array([-122.23, -122.22, -122.24, -122.25, -122.25]),\n",
       " array([37.88, 37.86, 37.85, 37.85, 37.85]),\n",
       " array([41., 21., 52., 52., 52.]),\n",
       " array([ 880., 7099., 1467., 1274., 1627.]),\n",
       " array([ 129., 1106.,  190.,  235.,  280.]),\n",
       " array([ 322., 2401.,  496.,  558.,  565.]),\n",
       " array([ 126., 1138.,  177.,  219.,  259.]),\n",
       " array([8.3252, 8.3014, 7.2574, 5.6431, 3.8462]),\n",
       " array([452600., 358500., 352100., 341300., 342200.]),\n",
       " array([b'NEAR BAY', b'NEAR BAY', b'NEAR BAY', b'NEAR BAY', b'NEAR BAY'],\n",
       "       dtype='|S15')]"
      ]
     },
     "execution_count": 31,
     "metadata": {},
     "output_type": "execute_result"
    }
   ],
   "source": [
    "load_housing_data('housing_short.csv')"
   ]
  },
  {
   "cell_type": "markdown",
   "metadata": {},
   "source": [
    "# Reshaping and Re-sizing Arrays  \n",
    "resize() function is used to create a new array of different sizes and dimensions.\n",
    "\n",
    "resize() can create an array of larger size than the original array.\n",
    "\n",
    "To convert the original array into a bigger array, resize() will add more elements (than available in the original array) by copying the existing elements (repeated as many times as required) to fill the desired larger size\n",
    "\n",
    "ndarray.resize(new_shape, refcheck=True)\n",
    "\n",
    "With the above resize() function, enlarging an array to a larger size will retain the existing values of the original array, but missing entries/values will be filled with zeros."
   ]
  },
  {
   "cell_type": "code",
   "execution_count": 32,
   "metadata": {},
   "outputs": [
    {
     "name": "stdout",
     "output_type": "stream",
     "text": [
      "[[0 1 2]\n",
      " [3 0 0]]\n"
     ]
    }
   ],
   "source": [
    "import numpy as np\n",
    "\n",
    "my_arr = np.array([ [0,1], [2,3] ])\n",
    "\n",
    "my_arr.resize( (2, 3) )  # need two rows and one column\n",
    "\n",
    "print(my_arr)"
   ]
  },
  {
   "cell_type": "code",
   "execution_count": 33,
   "metadata": {},
   "outputs": [
    {
     "data": {
      "text/plain": [
       "array([[1, 2, 3, 4],\n",
       "       [5, 6, 7, 8]])"
      ]
     },
     "execution_count": 33,
     "metadata": {},
     "output_type": "execute_result"
    }
   ],
   "source": [
    "my_arr = np.array([[1,2,3,4],[5,6,7,8]])\n",
    "\n",
    "my_arr.resize((2,4))\n",
    "\n",
    "my_arr"
   ]
  },
  {
   "cell_type": "markdown",
   "metadata": {},
   "source": [
    "reshape()\n",
    "\n",
    "reshape() function is used to create a new array of the same size (as the original array) but of different desired dimensions.\n",
    "\n",
    "reshape() function will create an array with the same number of elements as the original array, i.e. of the same size as that of the original array. If you want to convert the original array to a bigger array, reshape() can’t add more elements(than available in the original array) to give you a bigger array.  \n",
    "\n",
    "ndarray.reshape(new_shape)\n",
    "\n",
    "There may be two cases, as mentioned below when we are reshaping the array:\n",
    "\n",
    "(1) We already know the desired number dimensions (say rows and columns) of the reshaped array.\n",
    "\n",
    "(2) We know the desired number of columns, but don't know the desired number of rows of the reshaped array.  \n",
    "\n",
    "\n",
    "Lets us take the first case - Reshaping a numpy array when the number of rows and number of columns of the reshaped array is known.\n",
    "\n",
    "This technique is used when you already are aware - how many numbers of rows and columns your reshaped array will have.\n",
    ".................................................................................    \n",
    "my_arr = np.arange(6)  \n",
    "print(my_arr)  \n",
    "output will be  \n",
    "[0,1,2,3,4,5]  \n",
    ".................................................................................    \n",
    "Now, let us reshape this array  \n",
    ".................................................................................  \n",
    "my_new_arr = my_arr.reshape(2,3)  \n",
    "print(my_new_arr)  \n",
    "output will be  \n",
    "[ [0,1,2],\n",
    "      [3,4,5] ]  \n",
    ".................................................................................  \n",
    "\n",
    "Now, let us take the second case - Reshaping a numpy array when the desired number of columns is known, but the desired number of rows is unknown.\n",
    "\n",
    "This specific technique is used when your reshaped array is going to be of bigger size than the original array, and you are sure about how many columns you want in the reshaped array, but you don't have an idea how many rows will be there in the reshaped (output) array.\n",
    "\n",
    "To achieve this, you use a value of '-1' in place of 'rows' field in the reshape() function, and use the desired value of the number of columns you want in the columns field in the reshape() function.\n",
    "\n",
    "Example - Say you want to reshape an existing array to an array with 3 columns and an unknown number of rows, as shown in the code below:  \n",
    ".....................................................  \n",
    "my_arr = np.arange(9)\n",
    "\n",
    "print(my_arr)\n",
    "\n",
    "output will be\n",
    "\n",
    "[0,1,2,3,4,5,6,7,8]  \n",
    ".....................................................  \n",
    "\n",
    "Now, let us reshape this array\n",
    "\n",
    "my_new_arr = my_arr.reshape(-1,3)\n",
    "\n",
    "print(my_new_arr)\n",
    "\n",
    "output will be\n",
    "\n",
    "    [ [0,1,2],\n",
    "      [3,4,5],\n",
    "      [6,7,8] ]  \n",
    "....................................................."
   ]
  },
  {
   "cell_type": "markdown",
   "metadata": {},
   "source": [
    "When you can't use reshape() function?\n",
    "\n",
    "You can't use reshape() function, when the size of the original array is different from your desired reshaped array. If you try to reshape(), it will throw an error.\n",
    "Example:  \n",
    ".....................................................  \n",
    "my_arr = np.arange(8)  \n",
    "print(my_arr)  \n",
    "output will be\n",
    "[0,1,2,3,4,5,6,7]   \n",
    "......................................................  \n",
    "my_arr.reshape(2,3)  \n",
    "the output will be an error as shown below  \n",
    "ValueError: cannot reshape array of size 8 into shape (2,3)  \n",
    ".....................................................  \n",
    "Now, again try with some other shape as shown below:\n",
    "my_arr.reshape(3,3)  \n",
    "the output will be an error as shown below\n",
    "ValueError: cannot reshape array of size 8 into shape (3,3)    \n",
    ".......................................................\n",
    "\n",
    "\n",
    "Difference between resize() and reshape() :\n",
    "\n",
    "reshape() will create an array with the same number of elements as the original array, i.e. of the same ‘size’ as that of the original array. If you want to convert the original array to a bigger array, reshape() can’t add more elements(than available in the original array) to give you a bigger array. Hence, reshape() is used to create a new array of the same size (as the original array) but of different desired dimensions.\n",
    "\n",
    "resize() can create an array of larger size than the original array. To convert the original array into a bigger array, resize() will add more elements (than available in the original array) by copying the existing elements (repeated as many times as required) to fill the desired larger size. resize() is used to create a new array of different sizes and dimensions."
   ]
  },
  {
   "cell_type": "code",
   "execution_count": 34,
   "metadata": {},
   "outputs": [
    {
     "name": "stdout",
     "output_type": "stream",
     "text": [
      "[0 1 2 3 4 5 6 7]\n"
     ]
    }
   ],
   "source": [
    "# create a 1-D numpy array called my_first_arr with values - 1,2,3,4,5,6,7 and 8\n",
    "my_first_arr = np.arange(8)\n",
    "print(my_first_arr)"
   ]
  },
  {
   "cell_type": "code",
   "execution_count": 35,
   "metadata": {},
   "outputs": [
    {
     "name": "stdout",
     "output_type": "stream",
     "text": [
      "[[0 1 2 3]\n",
      " [4 5 6 7]]\n"
     ]
    }
   ],
   "source": [
    "# apply reshape() function on this my_first_arr array to convert this 1-D array into a (2x4) array and \n",
    "# store this newly created (2x4) array in a variable called my_new_arr\n",
    "my_new_arr = my_first_arr.reshape(2,4)\n",
    "print(my_new_arr)"
   ]
  },
  {
   "cell_type": "code",
   "execution_count": 36,
   "metadata": {},
   "outputs": [
    {
     "name": "stdout",
     "output_type": "stream",
     "text": [
      "[0 1 2 3 4 5 6 7 8]\n"
     ]
    }
   ],
   "source": [
    "# create a 1-D numpy array called my_second_arr with values - 0,1,2,3,4,5,6,7 and 8,\n",
    "my_second_arr = np.arange(9)\n",
    "print(my_second_arr)"
   ]
  },
  {
   "cell_type": "code",
   "execution_count": 37,
   "metadata": {},
   "outputs": [
    {
     "name": "stdout",
     "output_type": "stream",
     "text": [
      "[[0 1 2]\n",
      " [3 4 5]\n",
      " [6 7 8]]\n"
     ]
    }
   ],
   "source": [
    "# apply reshape() function on this my_second_arr array to convert this 1-D array into an array with \n",
    "# 3 columns but unknown number of rows, and store this in a variable called my_updated_arr\n",
    "my_updated_arr = my_second_arr.reshape(-1,3)\n",
    "print(my_updated_arr)\n"
   ]
  },
  {
   "cell_type": "markdown",
   "metadata": {},
   "source": [
    "# Operations with NumPy Arrays  \n",
    "Generally, NumPy arrays are more efficient than lists.   \n",
    "One reason is that they allow you to do element-wise operations.   \n",
    "An element-wise operation allows you to quickly perform an operation, such as addition, on each element in an array.  \n",
    "Common operations that are element-wise include addition, subtraction, multiplication, division, modulo and exponent"
   ]
  },
  {
   "cell_type": "code",
   "execution_count": 38,
   "metadata": {},
   "outputs": [
    {
     "name": "stdout",
     "output_type": "stream",
     "text": [
      "[1, 2, 3, 4, 5]\n",
      "[4, 5, 6, 7, 8]\n"
     ]
    }
   ],
   "source": [
    "# With a list\n",
    "l = [1, 2, 3, 4, 5] # list of values\n",
    "l_plus_3 = []\n",
    "for i in range(len(l)):\n",
    "    l_plus_3.append(l[i] + 3)\n",
    "    \n",
    "print(l)\n",
    "print(l_plus_3)"
   ]
  },
  {
   "cell_type": "code",
   "execution_count": 39,
   "metadata": {},
   "outputs": [
    {
     "name": "stdout",
     "output_type": "stream",
     "text": [
      "[1 2 3 4 5]\n",
      "[4 5 6 7 8]\n"
     ]
    }
   ],
   "source": [
    "# With an array\n",
    "a = np.array(l) # convert list to an array\n",
    "a_plus_3 = a + 3 # add 3 to each elemnt in array and assign to new variable\n",
    "\n",
    "print(a)\n",
    "print(a_plus_3)"
   ]
  },
  {
   "cell_type": "markdown",
   "metadata": {},
   "source": [
    "As we can see, if we were to add 3 to every number in a list, we would have to use a for loop or a list comprehension.  \n",
    "\n",
    "With an array, we can just add 3. The same is true for subtraction, multiplication, and division."
   ]
  },
  {
   "cell_type": "code",
   "execution_count": null,
   "metadata": {},
   "outputs": [],
   "source": []
  },
  {
   "cell_type": "markdown",
   "metadata": {},
   "source": [
    "We can also use NumPy Arrays to find the squares or square roots of each value."
   ]
  },
  {
   "cell_type": "code",
   "execution_count": 40,
   "metadata": {},
   "outputs": [
    {
     "name": "stdout",
     "output_type": "stream",
     "text": [
      "[1 2 3 4 5]\n",
      "[ 1  4  9 16 25]\n",
      "[1.         1.41421356 1.73205081 2.         2.23606798]\n"
     ]
    }
   ],
   "source": [
    "print(a) # array of numbers\n",
    "print(a**2) # array of squares of each number in the array\n",
    "print(np.sqrt(a)) # array of square roots of each number in the array"
   ]
  },
  {
   "cell_type": "markdown",
   "metadata": {},
   "source": [
    "## adding an element to an aray"
   ]
  },
  {
   "cell_type": "markdown",
   "metadata": {},
   "source": [
    "The student’s grades are stored in 3 arrays.  \n",
    "test_1 = np.array([92, 94, 88, 91, 87])  \n",
    "test_2 = np.array([79, 100, 86, 93, 91])  \n",
    "test_3 = np.array([87, 85, 72, 90, 92]  \n",
    "\n",
    "It turns out that one of the questions on the third test had an error. Give each student two extra points and save the new array to test_3_fixed.\n"
   ]
  },
  {
   "cell_type": "code",
   "execution_count": 41,
   "metadata": {},
   "outputs": [],
   "source": [
    "# create the arrays of test scores\n",
    "test_1 = np.array([92, 94, 88, 91, 87])  \n",
    "test_2 = np.array([79, 100, 86, 93, 91])  \n",
    "test_3 = np.array([87, 85, 72, 90, 92]) "
   ]
  },
  {
   "cell_type": "code",
   "execution_count": 42,
   "metadata": {},
   "outputs": [
    {
     "name": "stdout",
     "output_type": "stream",
     "text": [
      "[87 85 72 90 92]\n",
      "[89 87 74 92 94]\n"
     ]
    }
   ],
   "source": [
    "# create the new array with modified scores\n",
    "test_3_fixed = test_3 + 2\n",
    "print(test_3)\n",
    "print(test_3_fixed)"
   ]
  },
  {
   "cell_type": "markdown",
   "metadata": {},
   "source": [
    "## elementwise addition"
   ]
  },
  {
   "cell_type": "markdown",
   "metadata": {},
   "source": [
    "Arrays can also be added to or subtracted from each other in NumPy, **assuming the arrays have the same number of elements.**\n",
    "\n",
    "When adding or subtracting arrays in NumPy, each element will be added/subtracted to its matching element.  \n",
    "\n",
    "\n",
    "If we try to perform an operation, such as addition or subtraction, on two or more arrays with differing lengths, then there will be an error message thrown, specifically a **ValueError.**\n",
    "\n",
    "When performing an operation on two arrays, each element of both arrays is essentially paired up from the first to the last element, and the operation is run on each pair of values. When one element is unpaired due to different array lengths, it will have no paired value, causing the error."
   ]
  },
  {
   "cell_type": "code",
   "execution_count": 43,
   "metadata": {},
   "outputs": [
    {
     "data": {
      "text/plain": [
       "array([ 7,  9, 11, 13, 15])"
      ]
     },
     "execution_count": 43,
     "metadata": {},
     "output_type": "execute_result"
    }
   ],
   "source": [
    "a = np.array([1, 2, 3, 4, 5])\n",
    "b = np.array([6, 7, 8, 9, 10])\n",
    "a + b\n"
   ]
  },
  {
   "cell_type": "markdown",
   "metadata": {},
   "source": [
    "Let’s find the average of each student’s test scores to calculate their final grade for the semester.   \n",
    "* Start by adding the three arrays together and save the answer to the variable total_grade.(Remember to use the fixed scores for test three.)  \n",
    "* Now, divide total_grade by the number of tests taken to find the average score for each student. Save the answer to the variable final_grade"
   ]
  },
  {
   "cell_type": "code",
   "execution_count": 44,
   "metadata": {},
   "outputs": [
    {
     "data": {
      "text/plain": [
       "array([260, 281, 248, 276, 272])"
      ]
     },
     "execution_count": 44,
     "metadata": {},
     "output_type": "execute_result"
    }
   ],
   "source": [
    "# create an array of total scores\n",
    "total_grade = test_1 + test_2 + test_3_fixed\n",
    "\n",
    "total_grade"
   ]
  },
  {
   "cell_type": "code",
   "execution_count": 45,
   "metadata": {},
   "outputs": [
    {
     "name": "stdout",
     "output_type": "stream",
     "text": [
      "[86.66666667 93.66666667 82.66666667 92.         90.66666667]\n"
     ]
    }
   ],
   "source": [
    "# create an array of final grade by dividing total scores by number of tests in this case 3\n",
    "final_grade = total_grade / 3\n",
    "\n",
    "print(final_grade)"
   ]
  },
  {
   "cell_type": "markdown",
   "metadata": {},
   "source": [
    "## elementwise multiplication"
   ]
  },
  {
   "cell_type": "code",
   "execution_count": 46,
   "metadata": {},
   "outputs": [
    {
     "name": "stdout",
     "output_type": "stream",
     "text": [
      "[[5 9]\n",
      " [4 7]]\n",
      "[[2 8]\n",
      " [1 6]]\n",
      "[[10 72]\n",
      " [ 4 42]]\n"
     ]
    }
   ],
   "source": [
    "# Create two NumPy arrays - A_arr and B_arr\n",
    "A_arr = np.array([ [ 5,9], [4, 7] ])\n",
    "B_arr = np.array( [ [2, 8], [1, 6] ] )\n",
    "print(A_arr)\n",
    "print(B_arr)\n",
    "\n",
    "# elementwise multiplication\n",
    "M_arr = A_arr * B_arr\n",
    "print(M_arr)"
   ]
  },
  {
   "cell_type": "markdown",
   "metadata": {},
   "source": [
    "## matrix multiplication i.e. dot product"
   ]
  },
  {
   "cell_type": "code",
   "execution_count": 47,
   "metadata": {},
   "outputs": [
    {
     "name": "stdout",
     "output_type": "stream",
     "text": [
      "[[5 9]\n",
      " [4 7]]\n",
      "[[2 8]\n",
      " [1 6]]\n",
      "[[19 94]\n",
      " [15 74]]\n"
     ]
    }
   ],
   "source": [
    "# matrix multiplication / dot product\n",
    "C_arr = np.array([ [ 5,9], [4, 7] ])\n",
    "D_arr = np.array( [ [2, 8], [1, 6] ] )\n",
    "print(C_arr)\n",
    "print(D_arr)\n",
    "\n",
    "# matrix multiplication\n",
    "P_arr = np.dot(C_arr , D_arr)\n",
    "print(P_arr)"
   ]
  },
  {
   "cell_type": "markdown",
   "metadata": {},
   "source": [
    "## normal division"
   ]
  },
  {
   "cell_type": "code",
   "execution_count": 48,
   "metadata": {},
   "outputs": [
    {
     "name": "stdout",
     "output_type": "stream",
     "text": [
      "[[25 65]\n",
      " [40 14]]\n",
      "[[ 2 10]\n",
      " [ 4  5]]\n",
      "[[12.5  6.5]\n",
      " [10.   2.8]]\n"
     ]
    }
   ],
   "source": [
    "# elementwise division\n",
    "R_div = np.array([ [ 25,65], [40, 14] ])\n",
    "S_div = np.array([ [2, 10], [4, 5] ] )\n",
    "print(R_div)\n",
    "print(S_div)\n",
    "T_div = R_div / S_div\n",
    "print(T_div)"
   ]
  },
  {
   "cell_type": "markdown",
   "metadata": {},
   "source": [
    "## integer division : floor division"
   ]
  },
  {
   "cell_type": "code",
   "execution_count": 49,
   "metadata": {},
   "outputs": [
    {
     "name": "stdout",
     "output_type": "stream",
     "text": [
      "[[25 65]\n",
      " [40 70]]\n",
      "[[ 2 10]\n",
      " [ 8  3]]\n",
      "[[12  6]\n",
      " [ 5 23]]\n"
     ]
    }
   ],
   "source": [
    "# elementwisse integer division\n",
    "R_int_div = np.array([ [ 25,65], [40, 70] ])\n",
    "S_int_div = np.array([ [2, 10], [8, 3] ] )\n",
    "print(R_int_div)\n",
    "print(S_int_div)\n",
    "T_int_div = R_int_div // S_int_div\n",
    "print(T_int_div)"
   ]
  },
  {
   "cell_type": "markdown",
   "metadata": {},
   "source": [
    "## modulo division"
   ]
  },
  {
   "cell_type": "code",
   "execution_count": 50,
   "metadata": {},
   "outputs": [
    {
     "name": "stdout",
     "output_type": "stream",
     "text": [
      "[[20 65]\n",
      " [40 70]]\n",
      "[[ 2 10]\n",
      " [ 8  3]]\n",
      "[[0 5]\n",
      " [0 1]]\n"
     ]
    }
   ],
   "source": [
    "# elementwise modulo division\n",
    "R_mod = np.array([ [ 20,65], [40, 70] ])\n",
    "S_mod = np.array([ [2, 10], [8, 3] ] )\n",
    "print(R_mod)\n",
    "print(S_mod)\n",
    "T_mod = R_mod % S_mod\n",
    "print(T_mod)"
   ]
  },
  {
   "cell_type": "markdown",
   "metadata": {},
   "source": [
    "## conditional operators"
   ]
  },
  {
   "cell_type": "code",
   "execution_count": 84,
   "metadata": {},
   "outputs": [
    {
     "name": "stdout",
     "output_type": "stream",
     "text": [
      "[[22 45]\n",
      " [90  4]]\n",
      "[22  4]\n"
     ]
    }
   ],
   "source": [
    "# creating a new array based on conditions\n",
    "U = np.array([ [ 22, 45], [90, 4 ] ] )\n",
    "print(U)\n",
    "\n",
    "#  Get all the elements of U which are less than 45\n",
    "print(U[U<45])"
   ]
  },
  {
   "cell_type": "markdown",
   "metadata": {},
   "source": [
    "# Two-Dimensional Arrays  \n",
    "\n",
    "In Python, we can create lists that are made up of other lists. Similarly, in NumPy we can create an array of arrays. \n",
    "\n",
    "If the arrays that make up our bigger array are all the same size, then it has a special name: a two-dimensional array.\n",
    "\n",
    "In the previous exercises we had stored the students’ test scores in separate one-dimensional arrays for each test:\n",
    "\n",
    "test_1 = np.array([92, 94, 88, 91, 87])  \n",
    "test_2 = np.array([79, 100, 86, 93, 91])  \n",
    "test_3 = np.array([87, 85, 72, 90, 92])  \n",
    "\n",
    "But we could have also stored all of this data in a single, two-dimensional array:  \n",
    "\n",
    "np.array([[92, 94, 88, 91, 87],   \n",
    "          [79, 100, 86, 93, 91],  \n",
    "          [87, 85, 72, 90, 92]])  \n",
    "\n",
    "Here, each row represents a test, and each column represents a student. This allows us to store all of our data in a single array without losing any of its organization.\n",
    "\n",
    "As we mentioned, a two-dimensional array is a list of lists where each list has the same number of elements. \n",
    "\n",
    "This code will run but it will not create a two-dimensional array because the lists have different numbers of elements:\n",
    "\n",
    "np.array([[29, 49,  6],   \n",
    "          [77,  1]])  \n",
    "\n",
    "This code will not run because the [] for the outer lists are missing:\n",
    "\n",
    "np.array([68, 16, 73],    \n",
    "         [61, 79, 30])"
   ]
  },
  {
   "cell_type": "code",
   "execution_count": 51,
   "metadata": {},
   "outputs": [
    {
     "name": "stdout",
     "output_type": "stream",
     "text": [
      "[[ 92  94  88  91  87]\n",
      " [ 79 100  86  93  91]\n",
      " [ 87  85  72  90  92]]\n"
     ]
    }
   ],
   "source": [
    "#creating an array of test scores (Row = test scores , Column = students)\n",
    "test_scores = np.array([[92,94,88,91,87], ### list 1 of 5 elements\n",
    "                       [79,100,86,93,91], ### list 2 of 5 elements\n",
    "                       [87,85,72,90,92]]) ### list 3 of 5 elements\n",
    "\n",
    "# print the array\n",
    "print(test_scores)"
   ]
  },
  {
   "cell_type": "markdown",
   "metadata": {},
   "source": [
    "In statistics, we often use two-dimensional arrays to represent a set of samples.   \n",
    "\n",
    "For instance, if we flip a coin we can represent each head as a 1 and each tail as a 0.  \n",
    "\n",
    "Create a one-dimensional array for a coin toss experiment that results in heads, tails, tails, heads, tails, and save it to the variable coin_toss.\n"
   ]
  },
  {
   "cell_type": "code",
   "execution_count": 52,
   "metadata": {},
   "outputs": [
    {
     "data": {
      "text/plain": [
       "array([1, 0, 0, 1, 0])"
      ]
     },
     "execution_count": 52,
     "metadata": {},
     "output_type": "execute_result"
    }
   ],
   "source": [
    "# create an array for coin toss\n",
    "coin_toss = np.array([1 , 0 , 0 , 1 , 0])\n",
    "\n",
    "coin_toss"
   ]
  },
  {
   "cell_type": "markdown",
   "metadata": {},
   "source": [
    "We run the experiment again and get the following outcome: tails, tails, heads, heads, heads. \n",
    "\n",
    "Create a new array that represents both outcomes as a single experiment. Save the new array to coin_toss_again. "
   ]
  },
  {
   "cell_type": "code",
   "execution_count": 53,
   "metadata": {},
   "outputs": [
    {
     "data": {
      "text/plain": [
       "array([[1, 0, 0, 1, 0],\n",
       "       [0, 0, 1, 1, 1]])"
      ]
     },
     "execution_count": 53,
     "metadata": {},
     "output_type": "execute_result"
    }
   ],
   "source": [
    "# create a new array of coin toss that has both outcomes\n",
    "coin_toss_again = np.array([[1 , 0 , 0 , 1 , 0], ## 1st coin toss outcome\n",
    "                           [0,0,1,1,1]])  ## 2nd coin toss outcome\n",
    "\n",
    "coin_toss_again"
   ]
  },
  {
   "cell_type": "markdown",
   "metadata": {},
   "source": [
    "**Question :** Can we perform operations between 1-D and 2-D NumPy Arrays?  \n",
    "**Answer :** Yes, when performing an operation between a 1-D and a 2-D NumPy Array, it will essentially perform the operation on the 1-D array with each row of the 2-D Array individually.\n",
    "\n",
    "As a result, it is only possible if the number of elements for every row in both Arrays match."
   ]
  },
  {
   "cell_type": "code",
   "execution_count": 54,
   "metadata": {},
   "outputs": [
    {
     "name": "stdout",
     "output_type": "stream",
     "text": [
      "[[1 1]\n",
      " [2 2]\n",
      " [3 3]]\n",
      "[10 10]\n",
      "[[10 10]\n",
      " [20 20]\n",
      " [30 30]]\n"
     ]
    }
   ],
   "source": [
    "# In the example below , these two arrays have 2 elements in each row, so you can perform an operation on them.\n",
    "\n",
    "# When we perform an operation on these arrays, \n",
    "# it is essentially running the operation on each row of the 2-D list with the 1-D list.\n",
    "arr1 = np.array([[1, 1], [2, 2], [3, 3]])\n",
    "arr2 = np.array([10, 10])\n",
    "\n",
    "arr1 * arr2\n",
    "# The result of running the above is {1*10 , 1*10 ; 2*10 , 2*10 ; 3*10 , 3*10}\n",
    "# [[10 10]\n",
    "#  [20 20]\n",
    "#  [30 30]]\n",
    "\n",
    "print(arr1)\n",
    "print(arr2)\n",
    "print(arr1*arr2)"
   ]
  },
  {
   "cell_type": "code",
   "execution_count": null,
   "metadata": {},
   "outputs": [],
   "source": []
  },
  {
   "cell_type": "markdown",
   "metadata": {},
   "source": [
    "# Selecting Elements from a 1-D Array"
   ]
  },
  {
   "cell_type": "markdown",
   "metadata": {},
   "source": [
    "NumPy allows us to select elements from an array using their indices. Consider the one-dimensional array  \n",
    "\n",
    "a = np.array([5, 2, 7, 0, 11])  \n",
    "\n",
    "If we wanted to select the first element in this array, we would call:  \n",
    "\n",
    "..a[0]  \n",
    "5 \n",
    "\n",
    "In typical Python fashion, the indices for an array start at 0. This is known as zero-indexed numbering. In the array above, 5 is known as the zeroth element, a[0]. It follows that 2 is the first element, a[1].\n",
    "\n",
    "We can also select negative indices, which count from opposite end of the array and start at -1. This is particularly useful when you want to access the last element or two of an array:  \n",
    "\n",
    "..a[-1]  \n",
    "11  \n",
    "..a[-2]  \n",
    "0  \n",
    "\n",
    "If we wanted to select multiple elements in the array, we can define a range, such as a[1:3], which will select all the elements from a[1] to a[3], including a[1] but excluding a[3].  \n",
    "\n",
    "..a[1:3]  \n",
    "array([2, 7])  \n",
    "\n",
    "Similarly, if we wanted to select all elements before a[3] we would use:  \n",
    "\n",
    "..a[:3]  \n",
    "array([5, 2, 7])  \n",
    "\n",
    "We can also use negative indices to select multiple elements. Let’s say we want to select the last 3 elements in an array:  \n",
    "\n",
    "..a[-3:]  \n",
    "array([7, 0, 11])  \n",
    "\n",
    "Notice that when we select multiple elements, we get an array.\n"
   ]
  },
  {
   "cell_type": "code",
   "execution_count": null,
   "metadata": {},
   "outputs": [],
   "source": []
  },
  {
   "attachments": {
    "2DARRAYEXAMPLE.GIF": {
     "image/gif": "[encoded data removed]"
    }
   },
   "cell_type": "markdown",
   "metadata": {},
   "source": [
    "Let’s return to our student’s test scores. The following table shows all three test arrays aligned to the names of the students.  \n",
    "![2DARRAYEXAMPLE.GIF](attachment:2DARRAYEXAMPLE.GIF)  \n"
   ]
  },
  {
   "cell_type": "markdown",
   "metadata": {},
   "source": [
    "Jeremy wants to know what he scored on the second test.  \n",
    "Select the score from the test_2 array and save it to the variable jeremy_test_2."
   ]
  },
  {
   "cell_type": "code",
   "execution_count": 55,
   "metadata": {},
   "outputs": [
    {
     "name": "stdout",
     "output_type": "stream",
     "text": [
      "93\n"
     ]
    }
   ],
   "source": [
    "jeremy_test_2 = test_2[3]\n",
    "\n",
    "print(jeremy_test_2)"
   ]
  },
  {
   "cell_type": "markdown",
   "metadata": {},
   "source": [
    "You want to compare how Manual and Adwoa did on the first test.   \n",
    "Select both of their scores and save them in an array named manual_adwoa_test_1.\n"
   ]
  },
  {
   "cell_type": "code",
   "execution_count": 56,
   "metadata": {},
   "outputs": [
    {
     "name": "stdout",
     "output_type": "stream",
     "text": [
      "[94 88]\n"
     ]
    }
   ],
   "source": [
    "manual_adowa_test_1 = test_1[1:3]\n",
    "\n",
    "print(manual_adowa_test_1)"
   ]
  },
  {
   "cell_type": "markdown",
   "metadata": {},
   "source": [
    "**Question :** When selecting elements from a 1-D NumPy Array, is there a way to skip elements?\n",
    "\n",
    "**Answer :** Yes, actually, selecting elements from a 1-D Array is similar to list or string slicing.\n",
    "\n",
    "Just like when slicing a list or string, we can include a third value, which is the step value, or the number of indexes to increment for each item in the new list or substring."
   ]
  },
  {
   "cell_type": "code",
   "execution_count": 57,
   "metadata": {},
   "outputs": [
    {
     "name": "stdout",
     "output_type": "stream",
     "text": [
      "[92 94 88 91 87]\n",
      "[92 88 87]\n"
     ]
    }
   ],
   "source": [
    "# By default, step is 1, and selects each item \n",
    "# in the range of indexes.\n",
    "test = np.array([92, 94, 88, 91, 87])\n",
    "\n",
    "print(test[0:5])\n",
    "# [92, 94, 88, 91 87]\n",
    "\n",
    "# With a step of 2, it will skip every other element.\n",
    "print(test[0:5:2] )\n",
    "# [92, 88, 87]"
   ]
  },
  {
   "cell_type": "markdown",
   "metadata": {},
   "source": [
    "Replacing selected elements of a NumPy array by a specific value"
   ]
  },
  {
   "cell_type": "code",
   "execution_count": 87,
   "metadata": {},
   "outputs": [
    {
     "name": "stdout",
     "output_type": "stream",
     "text": [
      "[ 2  9 17 13  1  4 20 57]\n"
     ]
    }
   ],
   "source": [
    "# create an array\n",
    "my_arr = np.array([2, 9, 17, 13, 1, 4, 20, 57])\n",
    "print(my_arr)"
   ]
  },
  {
   "cell_type": "code",
   "execution_count": 86,
   "metadata": {},
   "outputs": [
    {
     "name": "stdout",
     "output_type": "stream",
     "text": [
      "[ 2  9  6  6  6  4 20 57]\n"
     ]
    }
   ],
   "source": [
    "# replace elemnts from 2 to 5 with \"6\"\n",
    "my_arr[2:5] = 6\n",
    "print(my_arr)"
   ]
  },
  {
   "attachments": {
    "ARRAY.GIF": {
     "image/gif": "[encoded data removed]"
    }
   },
   "cell_type": "markdown",
   "metadata": {},
   "source": [
    "# Selecting Elements from a 2-D Array  \n",
    "Selecting elements from a 2-d array is very similar to selecting them from a 1-d array, we just have two indices to select from. The syntax for selecting from a 2-d array is a[row,column] where a is the array.\n",
    "\n",
    "It’s important to note that when we work with arrays that have more than one dimension, the relationship between the interior arrays is defined in terms of axes. A two-dimensional array has two axes: axis 0 represents the values that share the same indexical position (are in the same column), and axis 1 represents the values that share an array (are in the same row). This is illustrated below  \n",
    "![ARRAY.GIF](attachment:ARRAY.GIF)  \n",
    "\n",
    "Syntax for selecting elements from 2D array [row index start : row index end , column index start : column index end ]\n"
   ]
  },
  {
   "cell_type": "code",
   "execution_count": 58,
   "metadata": {},
   "outputs": [],
   "source": [
    "a = np.array([[32, 15, 6, 9, 14], \n",
    "              [12, 10, 5, 23, 1],\n",
    "              [2, 16, 13, 40, 37]])"
   ]
  },
  {
   "cell_type": "code",
   "execution_count": 59,
   "metadata": {},
   "outputs": [
    {
     "name": "stdout",
     "output_type": "stream",
     "text": [
      "16\n"
     ]
    }
   ],
   "source": [
    "#We can select specific elements using their indices:\n",
    "print(a[2,1])\n",
    "\n",
    "# Select the row with index 2 i.e. row 3 and column with index 1 i.e. column 2"
   ]
  },
  {
   "cell_type": "code",
   "execution_count": 60,
   "metadata": {},
   "outputs": [
    {
     "name": "stdout",
     "output_type": "stream",
     "text": [
      "[32 12  2]\n"
     ]
    }
   ],
   "source": [
    "#Let’s say we wanted to select an entire column, we can insert : as the row index\n",
    "print(a[:,0])\n",
    "\n",
    "# Select all rows and elemnts from column index 0 i.e. 1st column"
   ]
  },
  {
   "cell_type": "code",
   "execution_count": 61,
   "metadata": {},
   "outputs": [
    {
     "name": "stdout",
     "output_type": "stream",
     "text": [
      "[12 10  5 23  1]\n"
     ]
    }
   ],
   "source": [
    "# Select 2nd row\n",
    "print(a[1,:])\n",
    "\n",
    "# Select elemnts of \"Row 1\" and \"All Columns\""
   ]
  },
  {
   "cell_type": "code",
   "execution_count": 62,
   "metadata": {},
   "outputs": [
    {
     "name": "stdout",
     "output_type": "stream",
     "text": [
      "[[32 15  6  9 14]\n",
      " [12 10  5 23  1]\n",
      " [ 2 16 13 40 37]]\n",
      "[6]\n"
     ]
    }
   ],
   "source": [
    "# Select specific elements\n",
    "print(a)\n",
    "print(a[0,2:3])\n",
    "\n",
    "# Select elemnt at \"Start with Rindex0 go to Rindex2 than start with Cindex 2 and stop at 2\""
   ]
  },
  {
   "attachments": {
    "2DARRAYEXAMPLE.GIF": {
     "image/gif": "[encoded data removed]"
    }
   },
   "cell_type": "markdown",
   "metadata": {},
   "source": [
    "Let’s return to our student’s test scores. The following table shows all three test arrays aligned to the names of the students.  \n",
    "Our students’ test scores are now stored in the 2-d array student_scores. The first row stores the scores of the first test, the second row the second test, and the third row the third test, as shown in the following table  \n",
    "\n",
    "![2DARRAYEXAMPLE.GIF](attachment:2DARRAYEXAMPLE.GIF)"
   ]
  },
  {
   "cell_type": "markdown",
   "metadata": {},
   "source": [
    "Tanya wants to know how well she did on third test. Select her score from the array and save it to tanya_test_3"
   ]
  },
  {
   "cell_type": "code",
   "execution_count": 63,
   "metadata": {},
   "outputs": [
    {
     "name": "stdout",
     "output_type": "stream",
     "text": [
      "[[ 92  94  88  91  87]\n",
      " [ 79 100  86  93  91]\n",
      " [ 87  85  72  90  92]]\n"
     ]
    }
   ],
   "source": [
    "#creating an array of test scores (Row = test scores , Column = students)\n",
    "test_scores = np.array([[92,94,88,91,87], ### list 1 of 5 elements\n",
    "                       [79,100,86,93,91], ### list 2 of 5 elements\n",
    "                       [87,85,72,90,92]]) ### list 3 of 5 elements\n",
    "\n",
    "# print the array\n",
    "print(test_scores)"
   ]
  },
  {
   "cell_type": "code",
   "execution_count": 64,
   "metadata": {},
   "outputs": [
    {
     "data": {
      "text/plain": [
       "87"
      ]
     },
     "execution_count": 64,
     "metadata": {},
     "output_type": "execute_result"
    }
   ],
   "source": [
    "# Tanya's test 3 scores\n",
    "tanya_test_3 = test_scores[2,0] # select the row with index 2 and column with index 0 i.e. 1st column\n",
    "tanya_test_3"
   ]
  },
  {
   "cell_type": "markdown",
   "metadata": {},
   "source": [
    "You have a parent teacher conference with Cody’s parents coming up and would like to have all of his test scores handy.\n",
    "\n",
    "Select all of Cody’s test scores and save them to a new array cody_test_scores"
   ]
  },
  {
   "cell_type": "code",
   "execution_count": 65,
   "metadata": {},
   "outputs": [
    {
     "data": {
      "text/plain": [
       "array([87, 91, 92])"
      ]
     },
     "execution_count": 65,
     "metadata": {},
     "output_type": "execute_result"
    }
   ],
   "source": [
    "# Cody's test scores test 1,2,3\n",
    "cody_test_scores = test_scores[:,-1] # select all rows from the column with last index\n",
    "cody_test_scores"
   ]
  },
  {
   "cell_type": "markdown",
   "metadata": {},
   "source": [
    "## Slicing Arrays"
   ]
  },
  {
   "cell_type": "code",
   "execution_count": 90,
   "metadata": {},
   "outputs": [
    {
     "name": "stdout",
     "output_type": "stream",
     "text": [
      "[ 1  8 23  3 18 91  7  5]\n"
     ]
    }
   ],
   "source": [
    "# Define a NumPy array with name apple with values (1, 8, 23, 3, 18, 91, 7, 15)\n",
    "apple = np.array([1,8,23,3,18,91,7,5])\n",
    "print(apple)"
   ]
  },
  {
   "cell_type": "code",
   "execution_count": 89,
   "metadata": {},
   "outputs": [
    {
     "data": {
      "text/plain": [
       "array([ 8, 23,  3])"
      ]
     },
     "execution_count": 89,
     "metadata": {},
     "output_type": "execute_result"
    }
   ],
   "source": [
    "# Extract a portion of this NumPy array apple from index 1 to 4\n",
    "apple[1:4]"
   ]
  },
  {
   "cell_type": "markdown",
   "metadata": {},
   "source": [
    "## Slicing and Replacing : changes original array contents"
   ]
  },
  {
   "cell_type": "code",
   "execution_count": 92,
   "metadata": {},
   "outputs": [
    {
     "name": "stdout",
     "output_type": "stream",
     "text": [
      "[ 1  8 23  3 18 91  7  5]\n",
      "[    8 99999     3]\n",
      "[    1     8 99999     3    18    91     7     5]\n"
     ]
    }
   ],
   "source": [
    "# Define a NumPy array with name apple with values (1, 8, 23, 3, 18, 91, 7, 15)\n",
    "apple = np.array([1,8,23,3,18,91,7,5])\n",
    "print(apple)\n",
    "\n",
    "# Extract a portion of this NumPy array apple from index 1 to 4\n",
    "apple_slice = apple[1:4]\n",
    "\n",
    "# Replace 2nd element of array apple_slice by a value say 99999\n",
    "apple_slice[1] = 99999\n",
    "print(apple_slice)\n",
    "print(apple)"
   ]
  },
  {
   "cell_type": "markdown",
   "metadata": {},
   "source": [
    "**Original (parent) array from which the slice was extracted also gets modified if the slice value is modified.**\n",
    "\n",
    "If you don't want original (parent) array values to get modified when its slice values are changing, you can create the slice by using a copy() function in the slicing code syntax"
   ]
  },
  {
   "cell_type": "code",
   "execution_count": 94,
   "metadata": {},
   "outputs": [
    {
     "name": "stdout",
     "output_type": "stream",
     "text": [
      "[ 1  8 23  3 18 91  7  5]\n",
      "[ 8 23  3]\n",
      "[23  3 18]\n"
     ]
    }
   ],
   "source": [
    "# Define a NumPy array with name apple with values (1, 8, 23, 3, 18, 91, 7, 15)\n",
    "apple = np.array([1,8,23,3,18,91,7,5])\n",
    "print(apple)\n",
    "\n",
    "# Extract a portion of this NumPy array apple from index 1 to 4\n",
    "apple_slice = apple[1:4]\n",
    "print(apple_slice)\n",
    "\n",
    "# slice elements 2:5 and create a copy\n",
    "apple_slice_new = apple[2:5].copy()\n",
    "print(apple_slice_new)"
   ]
  },
  {
   "cell_type": "markdown",
   "metadata": {},
   "source": [
    "* Create a 4x5 (4 rows, 5 columns) NumPy array called my_multi_arr  \n",
    "* Extract values from row index numbers 2 to 4 and from column index numbers 2 to 5, and store it in a variable called my_multi_arr_portion  \n",
    "* Print the my_multi_arr_portion array using print() function to see its values"
   ]
  },
  {
   "cell_type": "code",
   "execution_count": 1,
   "metadata": {},
   "outputs": [
    {
     "name": "stdout",
     "output_type": "stream",
     "text": [
      "[[ 0  1  2  3  4]\n",
      " [ 5  6  7  8  9]\n",
      " [10 11 12 13 14]\n",
      " [15 16 17 18 19]]\n",
      "[[12 13 14]\n",
      " [17 18 19]]\n"
     ]
    }
   ],
   "source": [
    "# Create a 4x5 (4 rows, 5 columns) NumPy array called my_multi_arr\n",
    "my_multi_arr = np.arange(20).reshape(4,5)\n",
    "print(my_multi_arr)  \n",
    "\n",
    "#  Extract values from row index numbers 2 to 4 and \n",
    "# from column index numbers 2 to 5, \n",
    "# and store it in a variable called my_multi_arr_portion\n",
    "my_multi_arr_portion = my_multi_arr[2:4,2:5]\n",
    "print(my_multi_arr_portion)"
   ]
  },
  {
   "cell_type": "markdown",
   "metadata": {},
   "source": [
    "# Logical Operations with Arrays  \n",
    "Another useful thing that arrays can do is perform element-wise logical operations.   \n",
    "For instance, suppose we want to know how many elements in an array are greater than 5.   \n",
    "We can easily write some code that checks to see whether this statement evaluates to True for each item in the array, without having to use a for loop"
   ]
  },
  {
   "cell_type": "code",
   "execution_count": 66,
   "metadata": {},
   "outputs": [
    {
     "data": {
      "text/plain": [
       "array([ True, False, False,  True,  True, False,  True,  True,  True,\n",
       "        True])"
      ]
     },
     "execution_count": 66,
     "metadata": {},
     "output_type": "execute_result"
    }
   ],
   "source": [
    "x = np.array([10, 2, 2, 4, 5, 3, 9, 8, 9, 7])\n",
    "x > 3"
   ]
  },
  {
   "cell_type": "markdown",
   "metadata": {},
   "source": [
    "We can then use logical operators to evaluate and select items based on certain criteria.   \n",
    "To select all elements from the previous array that are greater than 5, we’d write the following:"
   ]
  },
  {
   "cell_type": "code",
   "execution_count": 67,
   "metadata": {},
   "outputs": [
    {
     "data": {
      "text/plain": [
       "array([10,  4,  5,  9,  8,  9,  7])"
      ]
     },
     "execution_count": 67,
     "metadata": {},
     "output_type": "execute_result"
    }
   ],
   "source": [
    "x[x>3] # from the array x select all elemnts that are > 3"
   ]
  },
  {
   "cell_type": "markdown",
   "metadata": {},
   "source": [
    "We can also combine logical statements to further specify our criteria.   \n",
    "To do so, we place each statement in parentheses and use boolean operators like **\"&\"** (and) and **\"|\"** (or). "
   ]
  },
  {
   "cell_type": "code",
   "execution_count": 68,
   "metadata": {},
   "outputs": [
    {
     "data": {
      "text/plain": [
       "array([9, 8, 9, 7])"
      ]
     },
     "execution_count": 68,
     "metadata": {},
     "output_type": "execute_result"
    }
   ],
   "source": [
    "x[(x>5) & (x<10)] ## select elements that are > 5 and < 10"
   ]
  },
  {
   "cell_type": "code",
   "execution_count": 69,
   "metadata": {},
   "outputs": [
    {
     "data": {
      "text/plain": [
       "array([10,  2,  2,  4,  5,  3,  9,  8,  9,  7])"
      ]
     },
     "execution_count": 69,
     "metadata": {},
     "output_type": "execute_result"
    }
   ],
   "source": [
    "x[(x>5) | (x<10)] ## select elements that are > 5 or < 10"
   ]
  },
  {
   "cell_type": "code",
   "execution_count": null,
   "metadata": {},
   "outputs": [],
   "source": []
  },
  {
   "cell_type": "markdown",
   "metadata": {},
   "source": [
    "Today we’re visiting the Goldilocks Porridge Festival, sampling a selection of breakfast cereals and judging them based on their temperature (listed in Fahrenheit).  \n",
    "\n",
    "[79, 65, 50, 63, 56, 90, 85, 98, 79, 51])  \n"
   ]
  },
  {
   "cell_type": "markdown",
   "metadata": {},
   "source": [
    "1. Create a logical condition that selects samples in the porridge array that are less than 60, and save them to a variable named cold.  \n",
    "2. Create a logical condition that finds all the samples that are higher than 80 and save them to a variable named hot  \n",
    "3. Create a logical condition that finds all the samples that are between 60 and 80 and save them to a variable named just_right"
   ]
  },
  {
   "cell_type": "code",
   "execution_count": 70,
   "metadata": {},
   "outputs": [
    {
     "data": {
      "text/plain": [
       "array([79, 65, 50, 63, 56, 90, 85, 98, 79, 51])"
      ]
     },
     "execution_count": 70,
     "metadata": {},
     "output_type": "execute_result"
    }
   ],
   "source": [
    "# create the array of temperatures\n",
    "porridge_temps = np.array([79, 65, 50, 63, 56, 90, 85, 98, 79, 51])\n",
    "porridge_temps"
   ]
  },
  {
   "cell_type": "code",
   "execution_count": 71,
   "metadata": {},
   "outputs": [
    {
     "name": "stdout",
     "output_type": "stream",
     "text": [
      "[50 56 51]\n"
     ]
    }
   ],
   "source": [
    "# select only those whose temp is < 60\n",
    "cold = porridge_temps[porridge_temps < 60]\n",
    "print(cold)"
   ]
  },
  {
   "cell_type": "code",
   "execution_count": 72,
   "metadata": {},
   "outputs": [
    {
     "name": "stdout",
     "output_type": "stream",
     "text": [
      "[90 85 98]\n"
     ]
    }
   ],
   "source": [
    "# select elements with temp > 80\n",
    "hot = porridge_temps[porridge_temps>80]\n",
    "print(hot)"
   ]
  },
  {
   "cell_type": "code",
   "execution_count": 73,
   "metadata": {},
   "outputs": [
    {
     "name": "stdout",
     "output_type": "stream",
     "text": [
      "[79 65 63 79]\n"
     ]
    }
   ],
   "source": [
    "# select elements that are between 60 and 80\n",
    "just_right = porridge_temps[(porridge_temps >= 60) & (porridge_temps <= 80)]\n",
    "print(just_right)"
   ]
  },
  {
   "cell_type": "markdown",
   "metadata": {},
   "source": [
    "# Flatenning a Multidimentional Array  \n",
    "If you have a multi-dimensional Numpy array, say, a 3-D, 2-D, etc. array, you can convert it to a 1-dimensional (1-D) array using Numpy function ravel().\n",
    "\n",
    "You may need to do this, as some of the libraries need the data to be fed in 1-dimensional form."
   ]
  },
  {
   "cell_type": "code",
   "execution_count": 2,
   "metadata": {},
   "outputs": [],
   "source": [
    "import numpy as np"
   ]
  },
  {
   "cell_type": "code",
   "execution_count": 3,
   "metadata": {},
   "outputs": [
    {
     "name": "stdout",
     "output_type": "stream",
     "text": [
      "[[ 0  1  2  3  4]\n",
      " [ 5  6  7  8  9]\n",
      " [10 11 12 13 14]\n",
      " [15 16 17 18 19]]\n"
     ]
    }
   ],
   "source": [
    "# create a 2-dimensional Numpy array (of size 4x5) called my_2d_arr\n",
    "my_2d_arr = np.arange(20).reshape(4,5)\n",
    "print(my_2d_arr)"
   ]
  },
  {
   "cell_type": "code",
   "execution_count": 4,
   "metadata": {},
   "outputs": [
    {
     "name": "stdout",
     "output_type": "stream",
     "text": [
      "[ 0  1  2  3  4  5  6  7  8  9 10 11 12 13 14 15 16 17 18 19]\n"
     ]
    }
   ],
   "source": [
    "# Call ravel() function on the above Numpy array (my_2d_arr) to create a 1-dimensional array, and store \n",
    "# this 1-D array in a variable called my_1d_arr\n",
    "my_1d_arr = my_2d_arr.ravel()\n",
    "print(my_1d_arr)"
   ]
  },
  {
   "cell_type": "code",
   "execution_count": null,
   "metadata": {},
   "outputs": [],
   "source": []
  },
  {
   "cell_type": "markdown",
   "metadata": {},
   "source": [
    "# Mathematical and Statistical Functions on Numpy Arrays  \n",
    "\n",
    "## Across the complete array\n",
    "\n",
    "There are several mathematical and statistical functions available in NumPy which can be very useful in manipulating the data of a matrix (dataset).  \n",
    "* mean(): Calculates mean of all the elements of the NumPy array, irrespective of the shape of the array. \n",
    "* var() : Calculates the variance of the elements of the NumPy array.  \n",
    "* std() : Calculates the standard deviation of the elements of the NumPy array.  \n",
    "* min() : Returns the minimum element in the NumPy array. \n",
    "* max() : Returns the maximum element in the NumPy array.  \n",
    "* sum() : Returns the sum of the elements of the NumPy array. \n"
   ]
  },
  {
   "cell_type": "code",
   "execution_count": 5,
   "metadata": {},
   "outputs": [
    {
     "name": "stdout",
     "output_type": "stream",
     "text": [
      "[[ 1  2  3]\n",
      " [ 4 -5  6]]\n"
     ]
    }
   ],
   "source": [
    "# create a NumPy array X_stat with values [ [ 1, 2, 3], [ 4, -5, 6] ]\n",
    "X_stat = np.array([[1,2,3] , [4,-5,6]])\n",
    "print(X_stat)"
   ]
  },
  {
   "cell_type": "code",
   "execution_count": 6,
   "metadata": {},
   "outputs": [
    {
     "name": "stdout",
     "output_type": "stream",
     "text": [
      "mean =  1.8333333333333333\n"
     ]
    }
   ],
   "source": [
    "# calculate and print the mean of elements of this array X_stat\n",
    "print(\"mean = \" , X_stat.mean())"
   ]
  },
  {
   "cell_type": "code",
   "execution_count": 7,
   "metadata": {},
   "outputs": [
    {
     "name": "stdout",
     "output_type": "stream",
     "text": [
      "Variance =  11.805555555555557\n"
     ]
    }
   ],
   "source": [
    "# calculate and print the variance of elements of this array X_stat\n",
    "print(\"Variance = \" , X_stat.var())"
   ]
  },
  {
   "cell_type": "code",
   "execution_count": 8,
   "metadata": {},
   "outputs": [
    {
     "name": "stdout",
     "output_type": "stream",
     "text": [
      "Standard Deviaton =  3.435921354681384\n"
     ]
    }
   ],
   "source": [
    "# calculate and print the standard deviation of elements of this array X_stat\n",
    "print(\"Standard Deviaton = \" , X_stat.std())"
   ]
  },
  {
   "cell_type": "code",
   "execution_count": 9,
   "metadata": {},
   "outputs": [
    {
     "name": "stdout",
     "output_type": "stream",
     "text": [
      "min = -5\n"
     ]
    }
   ],
   "source": [
    "# calculate and print the min of elements of this array X_stat\n",
    "print(\"min =\" , X_stat.min())"
   ]
  },
  {
   "cell_type": "code",
   "execution_count": 10,
   "metadata": {},
   "outputs": [
    {
     "name": "stdout",
     "output_type": "stream",
     "text": [
      "max =  6\n"
     ]
    }
   ],
   "source": [
    "# calculate and print the max of elements of this array X_stat\n",
    "print(\"max = \" , X_stat.max())"
   ]
  },
  {
   "cell_type": "code",
   "execution_count": 11,
   "metadata": {},
   "outputs": [
    {
     "name": "stdout",
     "output_type": "stream",
     "text": [
      "sum =  11\n"
     ]
    }
   ],
   "source": [
    "# calculate and print the sum of elements of this array X_stat\n",
    "print(\"sum = \" , X_stat.sum())"
   ]
  },
  {
   "cell_type": "markdown",
   "metadata": {},
   "source": [
    "## Sum across axes  \n",
    "We can sum across different axes of a NumPy array by specifying the axis parameter of the sum function.  \n",
    "\n",
    "array( [ [ [ 0, 1, 2, 3],  \n",
    "           [ 4, 5, 6, 7],  \n",
    "           [ 8, 9, 10, 11] ],  \n",
    "\n",
    "         [ [ 12, 13, 14 15],\n",
    "           [ 16, 17, 18, 19],\n",
    "           [ 20, 21, 22, 23] ] ] )\n",
    "\n",
    "**axis=0 : first dimension in array (i.e. the outermost bracket '[')**   \n",
    "\n",
    "The outermost bracket has two matrices\n",
    "\n",
    "Matrix 1 :  \n",
    "[ [ 0, 1, 2, 3],  \n",
    "  [ 4, 5, 6, 7],  \n",
    "  [ 8, 9, 10, 11] ]    \n",
    "Matrix 2:  \n",
    "[ [ 12, 13, 14 15],  \n",
    "  [ 16, 17, 18, 19],  \n",
    "  [ 20, 21, 22, 23] ]   \n",
    "\n",
    "Here the sum across the first dimension (axis=0) means the sum of these two matrices (element-wise) which will give us a single matrix in the final matrix...  \n",
    "array( [ [ 12, 14, 16, 18 ],  \n",
    "         [ 20, 22, 24, 26 ],  \n",
    "         [ 28, 30, 32, 34 ] ] )  \n",
    "\n",
    "This is calculated as  \n",
    "\n",
    "[ [ 12+0, 13+1, 14+2, 15+3 ],  \n",
    "  [ 16+4, 17+5, 18+6, 19+7 ],  \n",
    "  [ 20+8, 21+9, 22+10, 23+11 ] ]  \n",
    "\n",
    "\n",
    "**axis = 1 means he second dimension in array (i.e. the second bracket '[' from the outer side) i.e. the rows**  \n",
    "\n",
    "The rows are\n",
    "\n",
    "row 0:\n",
    "\n",
    "    [ 0, 1, 2, 3]\n",
    "    [ 4, 5, 6, 7]\n",
    "    [ 8, 9, 10, 11]\n",
    "\n",
    "row 1:\n",
    "\n",
    "    [ 12, 13, 14, 15]\n",
    "    [ 16, 17, 18, 19]\n",
    "    [ 20, 21, 22, 23]\n",
    "\n",
    "Hence, sum across the second dimension (axis=1) means the sum of the (along the) rows of the two matrices (element-wise) which will give us a single matrix in the final matrix  \n",
    "\n",
    "array( [ [12, 15, 18, 21],  \n",
    "         [48, 51, 54, 57] ] )  \n",
    "\n",
    "This is calculated as  \n",
    "\n",
    "array( [ [0+4+8, 1+5+9, 2+6+10, 3+7+11],  \n",
    "         [12+16+20, 13+17+21, 14+18+22, 15+19+23] ] )  \n",
    "\n",
    "**axis = 2 means the third dimension.i.e. the third bracket '[' from the outer side) is the columns.**  \n",
    "\n",
    "The columns are\n",
    "\n",
    "Matrix 1 :  \n",
    "[ 0,  4,  8 ]\n",
    "\n",
    "[ 1,   5,  9 ]\n",
    "\n",
    "[ 2,   6,  10 ]\n",
    "\n",
    "[ 3,   7,  11 ]\n",
    "\n",
    "matrix 2 :  \n",
    "[ 12,   16,  20 ]\n",
    "\n",
    "[ 13,   17,  21 ]\n",
    "\n",
    "[ 14,   18,  22 ]\n",
    "\n",
    "[ 15,   19,  23 ]\n",
    "\n",
    "Hence, sum across third dimension (axis=2) means the sum of the (along with the) columns of the two matrices (element-wise) which will give us a single matrix in the final matrix  \n",
    "\n",
    "array( [ [ 6, 22, 38],\n",
    "         [54, 70, 86] ] )\n",
    "\n",
    "This is calculated as\n",
    "\n",
    "array( [ [0+1+2+3, 4+5+6+7, 8+9+10+11],\n",
    "         [12+13+14+15, 16+17+18+19, 20+21+22+23] ] )\n"
   ]
  },
  {
   "cell_type": "code",
   "execution_count": 12,
   "metadata": {},
   "outputs": [
    {
     "name": "stdout",
     "output_type": "stream",
     "text": [
      "[[[ 0  1  2]\n",
      "  [ 3  4  5]\n",
      "  [ 6  7  8]]\n",
      "\n",
      " [[ 9 10 11]\n",
      "  [12 13 14]\n",
      "  [15 16 17]]]\n"
     ]
    }
   ],
   "source": [
    "# create a NumPy array called Z, with a total of 18 elements, and shape as (2, 3, 3)\n",
    "\n",
    "Z = np.arange(18).reshape(2,3,3)\n",
    "print(Z)"
   ]
  },
  {
   "cell_type": "code",
   "execution_count": 14,
   "metadata": {},
   "outputs": [
    {
     "name": "stdout",
     "output_type": "stream",
     "text": [
      "Sum of elements=  [[ 9 11 13]\n",
      " [15 17 19]\n",
      " [21 23 25]]\n",
      "Sum of rows =  [[ 9 12 15]\n",
      " [36 39 42]]\n",
      "Sum of columns =  [[ 3 12 21]\n",
      " [30 39 48]]\n"
     ]
    }
   ],
   "source": [
    "# Please find the sum across axis=0,1,2 for the array Z, and print the result using the print() function\n",
    "print(\"Sum of elements= \" , Z.sum(axis=0))\n",
    "print(\"Sum of rows = \" , Z.sum(axis=1))\n",
    "print(\"Sum of columns = \" , Z.sum(axis=2))"
   ]
  },
  {
   "cell_type": "markdown",
   "metadata": {},
   "source": [
    "## Transpose of an array  \n",
    "Transpose of a matrix (with rank >= 2) interchanges the rows and columns of the matrix.\n",
    "\n",
    "We can get the transpose of a matrix (or array) by using the attribute T."
   ]
  },
  {
   "cell_type": "code",
   "execution_count": 15,
   "metadata": {},
   "outputs": [
    {
     "name": "stdout",
     "output_type": "stream",
     "text": [
      "[[0 1]\n",
      " [2 3]\n",
      " [4 5]]\n"
     ]
    }
   ],
   "source": [
    "# create a Numpy array called N of size 6 and shape as (3,2)\n",
    "N = np.arange(6).reshape(3,2)\n",
    "print(N)"
   ]
  },
  {
   "cell_type": "code",
   "execution_count": 17,
   "metadata": {},
   "outputs": [
    {
     "name": "stdout",
     "output_type": "stream",
     "text": [
      "Transpose of N : [[0 2 4]\n",
      " [1 3 5]]\n"
     ]
    }
   ],
   "source": [
    "# Print the transpose of array N\n",
    "print(\"Transpose of N :\" , N.T)"
   ]
  },
  {
   "cell_type": "markdown",
   "metadata": {},
   "source": [
    "# Project : Betty's Bakery  \n",
    "Betty has always used her grandmother’s recipe book to make cookies, cakes, pancakes, and bread for her friends and family. She’s getting ready to open a business and will need to start buying all of her milk, eggs, sugar, flour, and butter in bulk.\n",
    "\n",
    "We will help Betty figure out how much she needs to buy using NumPy arrays describing her recipes"
   ]
  },
  {
   "attachments": {
    "BETTYSCUPCAKES.GIF": {
     "image/gif": "[encoded data removed]"
    }
   },
   "cell_type": "markdown",
   "metadata": {},
   "source": [
    "Betty’s assistant has compiled all of her recipes into a csv (comma-separated variable) file called recipes.csv. Load this file into a variable called recipes  \n",
    "![BETTYSCUPCAKES.GIF](attachment:BETTYSCUPCAKES.GIF)"
   ]
  },
  {
   "cell_type": "code",
   "execution_count": 74,
   "metadata": {},
   "outputs": [
    {
     "name": "stdout",
     "output_type": "stream",
     "text": [
      "[[2.    0.75  2.    1.    0.5  ]\n",
      " [1.    0.125 1.    1.    0.125]\n",
      " [2.75  1.5   1.    0.    1.   ]\n",
      " [4.    0.5   2.    2.    0.5  ]]\n"
     ]
    }
   ],
   "source": [
    "# import numpy\n",
    "import numpy as np\n",
    "\n",
    "# create the recipes array by importing .csv file\n",
    "recipes = np.genfromtxt('recipes.csv', delimiter=',')\n",
    "\n",
    "# print the contents of recipes\n",
    "print(recipes)"
   ]
  },
  {
   "cell_type": "markdown",
   "metadata": {},
   "source": [
    "Create a NumPy array that represents all the contents for cupcakes and save it in a variable 'cupcakes'"
   ]
  },
  {
   "cell_type": "code",
   "execution_count": 75,
   "metadata": {},
   "outputs": [
    {
     "name": "stdout",
     "output_type": "stream",
     "text": [
      "[2.   0.75 2.   1.   0.5 ]\n",
      "[[2.   0.75 2.   1.   0.5 ]]\n"
     ]
    }
   ],
   "source": [
    "# creating an array manually\n",
    "cupcakes_manual = np.array([2 , 0.75 , 2 , 1 , 0.5])\n",
    "print(cupcakes_manual)\n",
    "\n",
    "# creating an array by selection\n",
    "cupcakes = recipes[:1,] ## select all ements of row with index 0\n",
    "print(cupcakes)"
   ]
  },
  {
   "cell_type": "markdown",
   "metadata": {},
   "source": [
    "The 3rd column represents the number of eggs that each recipe needs.\n",
    "Select all elements from the 3rd column and save them to the variable eggs"
   ]
  },
  {
   "cell_type": "code",
   "execution_count": 76,
   "metadata": {},
   "outputs": [
    {
     "name": "stdout",
     "output_type": "stream",
     "text": [
      "[2. 1. 1. 2.]\n"
     ]
    }
   ],
   "source": [
    "# creating an array of eggs\n",
    "eggs = recipes[:,2]\n",
    "print(eggs)"
   ]
  },
  {
   "cell_type": "markdown",
   "metadata": {},
   "source": [
    "Which recipes require exactly 1 egg? Use a logical statement to get True or False for each value of eggs."
   ]
  },
  {
   "cell_type": "code",
   "execution_count": 77,
   "metadata": {},
   "outputs": [
    {
     "name": "stdout",
     "output_type": "stream",
     "text": [
      "[False  True  True False]\n",
      "[False  True  True False]\n"
     ]
    }
   ],
   "source": [
    "# simple way\n",
    "eggs_simple = eggs == 1\n",
    "print(eggs_simple)\n",
    "\n",
    "# create a logical array for \"one egg\"\n",
    "one_egg = recipes[:,2] == 1 # select the 3rd column and compare values to \"1 egg\"\n",
    "print(one_egg)"
   ]
  },
  {
   "cell_type": "markdown",
   "metadata": {},
   "source": [
    "Betty is going to make 2 batches of cupcakes (1st row) and 1 batch of cookies (3rd row).\n",
    "\n",
    "You already have a variable for cupcakes. Create a variable for cookies with the data from the 3rd row"
   ]
  },
  {
   "cell_type": "code",
   "execution_count": 78,
   "metadata": {},
   "outputs": [
    {
     "name": "stdout",
     "output_type": "stream",
     "text": [
      "[[2.75 1.5  1.   0.   1.  ]]\n"
     ]
    }
   ],
   "source": [
    "# creat3 an array of cookies\n",
    "cookies = recipes[2:3,] # select all columns starting from rindex2 upto rindex3 excluding rindex3\n",
    "print(cookies)"
   ]
  },
  {
   "cell_type": "markdown",
   "metadata": {},
   "source": [
    "Get the number of ingredients for a double batch of cupcakes by using multiplication on cupcakes. Save your new variable to double_batch"
   ]
  },
  {
   "cell_type": "code",
   "execution_count": 79,
   "metadata": {},
   "outputs": [
    {
     "name": "stdout",
     "output_type": "stream",
     "text": [
      "[[4.  1.5 4.  2.  1. ]]\n"
     ]
    }
   ],
   "source": [
    "# create an array of double batch\n",
    "double_batch = cupcakes * 2\n",
    "\n",
    "print(double_batch)"
   ]
  },
  {
   "cell_type": "markdown",
   "metadata": {},
   "source": [
    "Create a new variable called grocery_list by adding cookies and double_batch."
   ]
  },
  {
   "cell_type": "code",
   "execution_count": 80,
   "metadata": {},
   "outputs": [
    {
     "name": "stdout",
     "output_type": "stream",
     "text": [
      "[[6.   2.25 6.   3.   1.5 ]]\n"
     ]
    }
   ],
   "source": [
    "# create grocery list by combining cokkies and double batch of cupcakes\n",
    "grocery = cupcakes + double_batch\n",
    "\n",
    "print(grocery)"
   ]
  },
  {
   "cell_type": "code",
   "execution_count": null,
   "metadata": {},
   "outputs": [],
   "source": []
  },
  {
   "cell_type": "markdown",
   "metadata": {},
   "source": [
    "# Quiz"
   ]
  },
  {
   "cell_type": "code",
   "execution_count": 81,
   "metadata": {},
   "outputs": [
    {
     "data": {
      "text/plain": [
       "array([5, 7, 9])"
      ]
     },
     "execution_count": 81,
     "metadata": {},
     "output_type": "execute_result"
    }
   ],
   "source": [
    "#What’s is the value of c in the following array operation?\n",
    "a = np.array([1, 2, 3])\n",
    "b = np.array([4, 5, 6])\n",
    "\n",
    "c = a+b\n",
    "\n",
    "c"
   ]
  },
  {
   "cell_type": "code",
   "execution_count": 82,
   "metadata": {},
   "outputs": [
    {
     "data": {
      "text/plain": [
       "array([ 4, 18, 22,  3,  2])"
      ]
     },
     "execution_count": 82,
     "metadata": {},
     "output_type": "execute_result"
    }
   ],
   "source": [
    "# Consider the array a = np.array([10, 4, 6, 9, 18, 22, 11, 13, 3, 2, 15]). \n",
    "# Which logical operation could be performed on the array to return array([ 4, 18, 22, 3, 2])?\n",
    "\n",
    "a = np.array([10, 4, 6, 9, 18, 22, 11, 13, 3, 2, 15])\n",
    "\n",
    "x = a[(a<5) | (a>15)]\n",
    "\n",
    "x"
   ]
  },
  {
   "cell_type": "code",
   "execution_count": null,
   "metadata": {},
   "outputs": [],
   "source": []
  }
 ],
 "metadata": {
  "kernelspec": {
   "display_name": "Python 3",
   "language": "python",
   "name": "python3"
  },
  "language_info": {
   "codemirror_mode": {
    "name": "ipython",
    "version": 3
   },
   "file_extension": ".py",
   "mimetype": "text/x-python",
   "name": "python",
   "nbconvert_exporter": "python",
   "pygments_lexer": "ipython3",
   "version": "3.7.4"
  },
  "latex_envs": {
   "LaTeX_envs_menu_present": true,
   "autoclose": false,
   "autocomplete": true,
   "bibliofile": "biblio.bib",
   "cite_by": "apalike",
   "current_citInitial": 1,
   "eqLabelWithNumbers": true,
   "eqNumInitial": 1,
   "hotkeys": {
    "equation": "Ctrl-E",
    "itemize": "Ctrl-I"
   },
   "labels_anchors": false,
   "latex_user_defs": false,
   "report_style_numbering": false,
   "user_envs_cfg": false
  },
  "toc": {
   "base_numbering": "0",
   "nav_menu": {},
   "number_sections": true,
   "sideBar": true,
   "skip_h1_title": false,
   "title_cell": "Python Numpy",
   "title_sidebar": "Contents",
   "toc_cell": false,
   "toc_position": {
    "height": "calc(100% - 180px)",
    "left": "10px",
    "top": "150px",
    "width": "518.333px"
   },
   "toc_section_display": true,
   "toc_window_display": true
  },
  "varInspector": {
   "cols": {
    "lenName": 16,
    "lenType": 16,
    "lenVar": 40
   },
   "kernels_config": {
    "python": {
     "delete_cmd_postfix": "",
     "delete_cmd_prefix": "del ",
     "library": "var_list.py",
     "varRefreshCmd": "print(var_dic_list())"
    },
    "r": {
     "delete_cmd_postfix": ") ",
     "delete_cmd_prefix": "rm(",
     "library": "var_list.r",
     "varRefreshCmd": "cat(var_dic_list()) "
    }
   },
   "types_to_exclude": [
    "module",
    "function",
    "builtin_function_or_method",
    "instance",
    "_Feature"
   ],
   "window_display": false
  }
 },
 "nbformat": 4,
 "nbformat_minor": 2
}
