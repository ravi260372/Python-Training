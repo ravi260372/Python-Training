{
 "cells": [
  {
   "cell_type": "markdown",
   "metadata": {
    "colab_type": "text",
    "id": "QC99sQR-NdJg"
   },
   "source": [
    "## Python Basics"
   ]
  },
  {
   "cell_type": "markdown",
   "metadata": {
    "colab_type": "text",
    "id": "T-_3ghcyNdJi"
   },
   "source": [
    "#### Print Statement"
   ]
  },
  {
   "cell_type": "code",
   "execution_count": null,
   "metadata": {
    "colab": {
     "base_uri": "https://localhost:8080/",
     "height": 52
    },
    "colab_type": "code",
    "executionInfo": {
     "elapsed": 1181,
     "status": "ok",
     "timestamp": 1599707841110,
     "user": {
      "displayName": "sagar pawar",
      "photoUrl": "https://lh3.googleusercontent.com/a-/AOh14GjPSHt_FBZKjq33jQ7rmso1mhBav6gAAXl8cZsXCg=s64",
      "userId": "14748004232101096726"
     },
     "user_tz": -330
    },
    "id": "o6pqva_dNdJj",
    "outputId": "67417d32-19a2-4782-b68f-70b303497c0f"
   },
   "outputs": [
    {
     "name": "stdout",
     "output_type": "stream",
     "text": [
      "hello world\n",
      "python demo\n"
     ]
    }
   ],
   "source": [
    "# A simple print statement is \n",
    "print ('hello world') #whatever message you want to print is given in quotes (single/double)\n",
    "# if you want to print the varible value, pass the name of the variable without any quotes\n",
    "print_ = 'python demo' #print_ is a varibale having value 'python demo'\n",
    "print (print_)"
   ]
  },
  {
   "cell_type": "markdown",
   "metadata": {
    "colab_type": "text",
    "id": "KN0U8l-9NdJq"
   },
   "source": [
    "#### Pyhton Variables and Keywords:"
   ]
  },
  {
   "cell_type": "markdown",
   "metadata": {
    "colab_type": "text",
    "id": "TBLT_LIPNdJs"
   },
   "source": [
    "Keywords are python specific words which has specific meaning to python interpreter. for eg (True, False, None, if, else, elif, def , for, while etc)\n",
    "\n",
    "Variables defines the memory location where any value assigned to the variable can be stored.\n",
    "\n",
    "Variable name can start with [A-z], [a-z] followed by digits [0-9] and underscore.\n",
    "Digits can't be starting of the name.\n",
    "And no special characters are allowed for naming the varaiable"
   ]
  },
  {
   "cell_type": "markdown",
   "metadata": {
    "colab_type": "text",
    "id": "6YMATroaNdJt"
   },
   "source": [
    "Basically there are 3 types of literals in python"
   ]
  },
  {
   "cell_type": "markdown",
   "metadata": {
    "colab_type": "text",
    "id": "UO_AFuGjNdJu"
   },
   "source": [
    "1) Numeric  2) String  3) Boolean"
   ]
  },
  {
   "cell_type": "markdown",
   "metadata": {
    "colab_type": "text",
    "id": "te8Am0gINdJw"
   },
   "source": [
    "Numeric Literals can be either integers, float or complex"
   ]
  },
  {
   "cell_type": "markdown",
   "metadata": {
    "colab_type": "text",
    "id": "vUWbUDMSNdJx"
   },
   "source": [
    "##### Numeric Literals"
   ]
  },
  {
   "cell_type": "code",
   "execution_count": null,
   "metadata": {
    "colab": {
     "base_uri": "https://localhost:8080/",
     "height": 35
    },
    "colab_type": "code",
    "executionInfo": {
     "elapsed": 918,
     "status": "ok",
     "timestamp": 1599707865544,
     "user": {
      "displayName": "sagar pawar",
      "photoUrl": "https://lh3.googleusercontent.com/a-/AOh14GjPSHt_FBZKjq33jQ7rmso1mhBav6gAAXl8cZsXCg=s64",
      "userId": "14748004232101096726"
     },
     "user_tz": -330
    },
    "id": "Zml-RKYENdJz",
    "outputId": "3d4b2c67-2b92-4d82-dacf-e7c296cc25a8"
   },
   "outputs": [
    {
     "data": {
      "text/plain": [
       "int"
      ]
     },
     "execution_count": 2,
     "metadata": {
      "tags": []
     },
     "output_type": "execute_result"
    }
   ],
   "source": [
    "x = 12 # stores an integer value\n",
    "type (x) #type(): use to check type of the value that is stored"
   ]
  },
  {
   "cell_type": "code",
   "execution_count": null,
   "metadata": {
    "colab": {
     "base_uri": "https://localhost:8080/",
     "height": 35
    },
    "colab_type": "code",
    "executionInfo": {
     "elapsed": 953,
     "status": "ok",
     "timestamp": 1599707870998,
     "user": {
      "displayName": "sagar pawar",
      "photoUrl": "https://lh3.googleusercontent.com/a-/AOh14GjPSHt_FBZKjq33jQ7rmso1mhBav6gAAXl8cZsXCg=s64",
      "userId": "14748004232101096726"
     },
     "user_tz": -330
    },
    "id": "r3WykoY1NdJ4",
    "outputId": "4d091c2e-4105-4b89-b20d-433637bc68a5"
   },
   "outputs": [
    {
     "data": {
      "text/plain": [
       "float"
      ]
     },
     "execution_count": 3,
     "metadata": {
      "tags": []
     },
     "output_type": "execute_result"
    }
   ],
   "source": [
    "x = 12.5 #stores a decimal value\n",
    "type(x)\n",
    "# In above eg we have used x to store 12 and here also we used the same x to store value 12.5, hence the variable value \n",
    "# is now modified to 12.5"
   ]
  },
  {
   "cell_type": "code",
   "execution_count": null,
   "metadata": {
    "colab": {
     "base_uri": "https://localhost:8080/",
     "height": 35
    },
    "colab_type": "code",
    "executionInfo": {
     "elapsed": 802,
     "status": "ok",
     "timestamp": 1599707926183,
     "user": {
      "displayName": "sagar pawar",
      "photoUrl": "https://lh3.googleusercontent.com/a-/AOh14GjPSHt_FBZKjq33jQ7rmso1mhBav6gAAXl8cZsXCg=s64",
      "userId": "14748004232101096726"
     },
     "user_tz": -330
    },
    "id": "e4kXPbuvNdJ9",
    "outputId": "259ee3ab-ce7b-4385-a089-1a00c268edb3"
   },
   "outputs": [
    {
     "data": {
      "text/plain": [
       "complex"
      ]
     },
     "execution_count": 4,
     "metadata": {
      "tags": []
     },
     "output_type": "execute_result"
    }
   ],
   "source": [
    "#In python we store complex values as a+bj\n",
    "comp_ = 3+4j\n",
    "type(comp_)"
   ]
  },
  {
   "cell_type": "markdown",
   "metadata": {
    "colab_type": "text",
    "id": "S01iDIKYNdKB"
   },
   "source": [
    "##### Numeric Operators:"
   ]
  },
  {
   "cell_type": "code",
   "execution_count": null,
   "metadata": {
    "colab": {
     "base_uri": "https://localhost:8080/",
     "height": 126
    },
    "colab_type": "code",
    "executionInfo": {
     "elapsed": 2166,
     "status": "ok",
     "timestamp": 1599707613301,
     "user": {
      "displayName": "Alok Yadav",
      "photoUrl": "https://lh3.googleusercontent.com/a-/AOh14GizZFMCB8-eVvEF7cC9zt8SGXsUNNmSz3Ka92VAXw=s64",
      "userId": "13695401162967392961"
     },
     "user_tz": -330
    },
    "id": "VLreBQoVNdKD",
    "outputId": "33491745-f15d-44f9-cfc0-2d362797c04e"
   },
   "outputs": [
    {
     "name": "stdout",
     "output_type": "stream",
     "text": [
      "7\n",
      "3\n",
      "12\n",
      "3.3333333333333335\n",
      "3\n",
      "2\n"
     ]
    }
   ],
   "source": [
    "#Arithmatic Operators: (+,-,*,/,//,%)\n",
    "print (3+4) #addition\n",
    "print (5-2) #Subtraction\n",
    "print (6*2) #Multiplication\n",
    "print (10/3) #Division\n",
    "print (10//3) #Floor division (quotient is rounded off to nearest integer)\n",
    "print (14%3) #Returns the remainder of the division"
   ]
  },
  {
   "cell_type": "code",
   "execution_count": null,
   "metadata": {
    "colab": {
     "base_uri": "https://localhost:8080/",
     "height": 126
    },
    "colab_type": "code",
    "executionInfo": {
     "elapsed": 933,
     "status": "ok",
     "timestamp": 1594347323455,
     "user": {
      "displayName": "Alok Yadav",
      "photoUrl": "https://lh3.googleusercontent.com/a-/AOh14GizZFMCB8-eVvEF7cC9zt8SGXsUNNmSz3Ka92VAXw=s64",
      "userId": "13695401162967392961"
     },
     "user_tz": -330
    },
    "id": "qEba4P0JNdKH",
    "outputId": "48bb4679-50d3-40ac-de8c-5912bfcccd39"
   },
   "outputs": [
    {
     "name": "stdout",
     "output_type": "stream",
     "text": [
      "True\n",
      "False\n",
      "True\n",
      "False\n",
      "True\n",
      "False\n"
     ]
    }
   ],
   "source": [
    "#comparision operators:\n",
    "#comparision operators compare the two values and return boolean (True and False)\n",
    "a = 9\n",
    "b = 3\n",
    "print (a > b) #greater then\n",
    "print (a < b) #less then\n",
    "print (a >= b) #greater then equal to\n",
    "print (a <= b) #less then equal to\n",
    "print (a != b) #Not equals to\n",
    "print (a == b) #equals to"
   ]
  },
  {
   "cell_type": "code",
   "execution_count": null,
   "metadata": {
    "colab": {
     "base_uri": "https://localhost:8080/",
     "height": 35
    },
    "colab_type": "code",
    "executionInfo": {
     "elapsed": 864,
     "status": "ok",
     "timestamp": 1594347370488,
     "user": {
      "displayName": "Alok Yadav",
      "photoUrl": "https://lh3.googleusercontent.com/a-/AOh14GizZFMCB8-eVvEF7cC9zt8SGXsUNNmSz3Ka92VAXw=s64",
      "userId": "13695401162967392961"
     },
     "user_tz": -330
    },
    "id": "1nvSNRIDNdKN",
    "outputId": "ad06987b-dd08-4d63-d0ac-ee1ada2ab484"
   },
   "outputs": [
    {
     "name": "stdout",
     "output_type": "stream",
     "text": [
      "11\n"
     ]
    }
   ],
   "source": [
    "# Assignment Operators:\n",
    "# it assigns the value to whatever variable on the left side\n",
    "a = 5 #assigning value to variable a\n",
    "b = 6 #assigning value to variable b\n",
    "a += b #assigning value to a after addition of b to it\n",
    "print (a)\n",
    "#Similarly we have a-=b , a*=b , a/=b, a//=b and a%=b"
   ]
  },
  {
   "cell_type": "code",
   "execution_count": null,
   "metadata": {
    "colab": {
     "base_uri": "https://localhost:8080/",
     "height": 84
    },
    "colab_type": "code",
    "executionInfo": {
     "elapsed": 2278,
     "status": "ok",
     "timestamp": 1582729255627,
     "user": {
      "displayName": "Alok Yadav",
      "photoUrl": "https://lh3.googleusercontent.com/a-/AAuE7mCoOPX57BUgY2lDZ55QM_P9IlAdFR6kykkAi76Yaw=s64",
      "userId": "13695401162967392961"
     },
     "user_tz": -330
    },
    "id": "u7yTiwE2NdKT",
    "outputId": "6fcb25b6-deda-456f-d516-1c0600d7d524"
   },
   "outputs": [
    {
     "name": "stdout",
     "output_type": "stream",
     "text": [
      "True\n",
      "False\n",
      "True\n",
      "False\n"
     ]
    }
   ],
   "source": [
    "#Logical operators: (and, or, not)\n",
    "#and returns true when all conditions with and are true for eg:\n",
    "a = 5\n",
    "b = 6 \n",
    "c = 'demo'\n",
    "print (a!=b and c=='demo') #since both conditions are True it returns True\n",
    "print (a==b and c=='demo') #since one condition is false it returns False\n",
    "#or return true if any of the conditions given is True for eg:\n",
    "print (a==b or c=='demo') #since any of the conditions given is true it returns true\n",
    "#not returns the inverse of true or false for eg\n",
    "print (not(True)) #inverse of true is false"
   ]
  },
  {
   "cell_type": "markdown",
   "metadata": {
    "colab_type": "text",
    "id": "W2sCe6NYNdKY"
   },
   "source": [
    "#### Operator precedence:"
   ]
  },
  {
   "cell_type": "code",
   "execution_count": null,
   "metadata": {
    "colab": {},
    "colab_type": "code",
    "id": "kbg2WY4RNdKa"
   },
   "outputs": [],
   "source": [
    "#In a given sequence of Expression operator precedence will be as follows:\n",
    "** #exponent\n",
    "*, /, //, % #multiply, divide, floor division, modulous\n",
    "+, - #Addition and subtraction\n",
    "<=, <, >, >= #comparison operators\n",
    "=, %=, /=, //=, -=,+=, *=, **= # Assignment operators\n",
    "and or not # Logical operators"
   ]
  },
  {
   "cell_type": "markdown",
   "metadata": {
    "colab_type": "text",
    "id": "wmjZZimJNdKf"
   },
   "source": [
    "#### String Operators:"
   ]
  },
  {
   "cell_type": "code",
   "execution_count": 2,
   "metadata": {
    "colab": {},
    "colab_type": "code",
    "executionInfo": {
     "elapsed": 970,
     "status": "ok",
     "timestamp": 1599708420605,
     "user": {
      "displayName": "Alok Yadav",
      "photoUrl": "https://lh3.googleusercontent.com/a-/AOh14GizZFMCB8-eVvEF7cC9zt8SGXsUNNmSz3Ka92VAXw=s64",
      "userId": "13695401162967392961"
     },
     "user_tz": -330
    },
    "id": "6_A4GApvNwHJ"
   },
   "outputs": [],
   "source": [
    "a='Python is top most programming language' "
   ]
  },
  {
   "cell_type": "code",
   "execution_count": 15,
   "metadata": {
    "colab": {
     "base_uri": "https://localhost:8080/",
     "height": 35
    },
    "colab_type": "code",
    "executionInfo": {
     "elapsed": 965,
     "status": "ok",
     "timestamp": 1599709093194,
     "user": {
      "displayName": "Alok Yadav",
      "photoUrl": "https://lh3.googleusercontent.com/a-/AOh14GizZFMCB8-eVvEF7cC9zt8SGXsUNNmSz3Ka92VAXw=s64",
      "userId": "13695401162967392961"
     },
     "user_tz": -330
    },
    "id": "34bwyOHUN-vj",
    "outputId": "4cc91026-1244-4f60-9b82-163098a03868"
   },
   "outputs": [
    {
     "data": {
      "application/vnd.google.colaboratory.intrinsic+json": {
       "type": "string"
      },
      "text/plain": [
       "'python is top most programming language'"
      ]
     },
     "execution_count": 15,
     "metadata": {
      "tags": []
     },
     "output_type": "execute_result"
    }
   ],
   "source": [
    "a.lower()"
   ]
  },
  {
   "cell_type": "code",
   "execution_count": 4,
   "metadata": {
    "colab": {
     "base_uri": "https://localhost:8080/",
     "height": 35
    },
    "colab_type": "code",
    "executionInfo": {
     "elapsed": 1020,
     "status": "ok",
     "timestamp": 1599708438755,
     "user": {
      "displayName": "Alok Yadav",
      "photoUrl": "https://lh3.googleusercontent.com/a-/AOh14GizZFMCB8-eVvEF7cC9zt8SGXsUNNmSz3Ka92VAXw=s64",
      "userId": "13695401162967392961"
     },
     "user_tz": -330
    },
    "id": "DhJiw9FpOH9B",
    "outputId": "d1a3c1a4-16f8-4c17-d629-fce29bb8dc92"
   },
   "outputs": [
    {
     "data": {
      "application/vnd.google.colaboratory.intrinsic+json": {
       "type": "string"
      },
      "text/plain": [
       "'PYTHON IS TOP MOST PROGRAMMING LANGUAGE'"
      ]
     },
     "execution_count": 4,
     "metadata": {
      "tags": []
     },
     "output_type": "execute_result"
    }
   ],
   "source": [
    "a.upper()"
   ]
  },
  {
   "cell_type": "code",
   "execution_count": 23,
   "metadata": {
    "colab": {
     "base_uri": "https://localhost:8080/",
     "height": 69
    },
    "colab_type": "code",
    "executionInfo": {
     "elapsed": 1213,
     "status": "ok",
     "timestamp": 1599709360264,
     "user": {
      "displayName": "Alok Yadav",
      "photoUrl": "https://lh3.googleusercontent.com/a-/AOh14GizZFMCB8-eVvEF7cC9zt8SGXsUNNmSz3Ka92VAXw=s64",
      "userId": "13695401162967392961"
     },
     "user_tz": -330
    },
    "id": "YUtzljcpNdKg",
    "outputId": "bc22765c-e2b7-402b-812c-37a6334fb6db"
   },
   "outputs": [
    {
     "name": "stdout",
     "output_type": "stream",
     "text": [
      "   this is a demo string to show string operations    \n",
      "   THIS IS A DEMO STRING TO SHOW STRING OPERATIONS    \n"
     ]
    },
    {
     "data": {
      "application/vnd.google.colaboratory.intrinsic+json": {
       "type": "string"
      },
      "text/plain": [
       "'This is a demo string to show string operations    '"
      ]
     },
     "execution_count": 23,
     "metadata": {
      "tags": []
     },
     "output_type": "execute_result"
    }
   ],
   "source": [
    "#A string is simply defined in single quotes or double quotes as follows: \n",
    "x = '   This is a demo string to show string operations    '\n",
    "print (x.lower()) #Converts string to lower case\n",
    "print (x.upper()) #converts string to upper case\n",
    "x.lstrip() #remove unwanted spaces from the left side"
   ]
  },
  {
   "cell_type": "code",
   "execution_count": 17,
   "metadata": {
    "colab": {
     "base_uri": "https://localhost:8080/",
     "height": 35
    },
    "colab_type": "code",
    "executionInfo": {
     "elapsed": 956,
     "status": "ok",
     "timestamp": 1599709226784,
     "user": {
      "displayName": "Alok Yadav",
      "photoUrl": "https://lh3.googleusercontent.com/a-/AOh14GizZFMCB8-eVvEF7cC9zt8SGXsUNNmSz3Ka92VAXw=s64",
      "userId": "13695401162967392961"
     },
     "user_tz": -330
    },
    "id": "wqcmT7WaNdKl",
    "outputId": "996adc0d-d98b-4fca-bb98-8b5586681655"
   },
   "outputs": [
    {
     "data": {
      "application/vnd.google.colaboratory.intrinsic+json": {
       "type": "string"
      },
      "text/plain": [
       "'   This is a demo string to show string operations'"
      ]
     },
     "execution_count": 17,
     "metadata": {
      "tags": []
     },
     "output_type": "execute_result"
    }
   ],
   "source": [
    "x.rstrip() #remove unwanted spaces from the right side"
   ]
  },
  {
   "cell_type": "code",
   "execution_count": 18,
   "metadata": {
    "colab": {
     "base_uri": "https://localhost:8080/",
     "height": 35
    },
    "colab_type": "code",
    "executionInfo": {
     "elapsed": 968,
     "status": "ok",
     "timestamp": 1599709242174,
     "user": {
      "displayName": "Alok Yadav",
      "photoUrl": "https://lh3.googleusercontent.com/a-/AOh14GizZFMCB8-eVvEF7cC9zt8SGXsUNNmSz3Ka92VAXw=s64",
      "userId": "13695401162967392961"
     },
     "user_tz": -330
    },
    "id": "7wLKzkvANdKp",
    "outputId": "4c0acd7e-e83e-4cc6-fff5-1dae79235ec5"
   },
   "outputs": [
    {
     "data": {
      "application/vnd.google.colaboratory.intrinsic+json": {
       "type": "string"
      },
      "text/plain": [
       "'This is a demo string to show string operations'"
      ]
     },
     "execution_count": 18,
     "metadata": {
      "tags": []
     },
     "output_type": "execute_result"
    }
   ],
   "source": [
    "x.strip() #rmove unwanted spaces from both the sides"
   ]
  },
  {
   "cell_type": "code",
   "execution_count": 24,
   "metadata": {
    "colab": {
     "base_uri": "https://localhost:8080/",
     "height": 51
    },
    "colab_type": "code",
    "executionInfo": {
     "elapsed": 1156,
     "status": "ok",
     "timestamp": 1599709369622,
     "user": {
      "displayName": "Alok Yadav",
      "photoUrl": "https://lh3.googleusercontent.com/a-/AOh14GizZFMCB8-eVvEF7cC9zt8SGXsUNNmSz3Ka92VAXw=s64",
      "userId": "13695401162967392961"
     },
     "user_tz": -330
    },
    "id": "M6ozQVkYNdKu",
    "outputId": "4ed6f291-1d70-4149-d2e5-14cfa77e2aaa"
   },
   "outputs": [
    {
     "name": "stdout",
     "output_type": "stream",
     "text": [
      "True\n",
      "True\n"
     ]
    }
   ],
   "source": [
    "print (x.startswith(' ')) #checks whether the string starts with given initials and return boolean\n",
    "print (x.endswith(' ')) #checks whether string ends with given initials and return boolean"
   ]
  },
  {
   "cell_type": "code",
   "execution_count": 25,
   "metadata": {
    "colab": {
     "base_uri": "https://localhost:8080/",
     "height": 35
    },
    "colab_type": "code",
    "executionInfo": {
     "elapsed": 1017,
     "status": "ok",
     "timestamp": 1599709375739,
     "user": {
      "displayName": "Alok Yadav",
      "photoUrl": "https://lh3.googleusercontent.com/a-/AOh14GizZFMCB8-eVvEF7cC9zt8SGXsUNNmSz3Ka92VAXw=s64",
      "userId": "13695401162967392961"
     },
     "user_tz": -330
    },
    "id": "YQMKOJabDJgL",
    "outputId": "91ca4a8d-bc1d-457a-8a04-9ddd11dc90b1"
   },
   "outputs": [
    {
     "data": {
      "application/vnd.google.colaboratory.intrinsic+json": {
       "type": "string"
      },
      "text/plain": [
       "'   This is a demo string to show string operations    '"
      ]
     },
     "execution_count": 25,
     "metadata": {
      "tags": []
     },
     "output_type": "execute_result"
    }
   ],
   "source": [
    "x"
   ]
  },
  {
   "cell_type": "code",
   "execution_count": 26,
   "metadata": {
    "colab": {
     "base_uri": "https://localhost:8080/",
     "height": 34
    },
    "colab_type": "code",
    "executionInfo": {
     "elapsed": 951,
     "status": "ok",
     "timestamp": 1599709492138,
     "user": {
      "displayName": "Alok Yadav",
      "photoUrl": "https://lh3.googleusercontent.com/a-/AOh14GizZFMCB8-eVvEF7cC9zt8SGXsUNNmSz3Ka92VAXw=s64",
      "userId": "13695401162967392961"
     },
     "user_tz": -330
    },
    "id": "F-ScgJIUNdKy",
    "outputId": "bf44cb37-01a0-4ee3-e037-b51e734bb2bf"
   },
   "outputs": [
    {
     "data": {
      "text/plain": [
       "13"
      ]
     },
     "execution_count": 26,
     "metadata": {
      "tags": []
     },
     "output_type": "execute_result"
    }
   ],
   "source": [
    "x.find('demo') #finds the given string in the whole string and returns its starting index"
   ]
  },
  {
   "cell_type": "code",
   "execution_count": null,
   "metadata": {
    "colab": {},
    "colab_type": "code",
    "id": "S_ygSCQBNdK3",
    "outputId": "ba8ff157-ebe1-4102-9d18-1d6456bd1801"
   },
   "outputs": [
    {
     "data": {
      "text/plain": [
       "2"
      ]
     },
     "execution_count": 18,
     "metadata": {
      "tags": []
     },
     "output_type": "execute_result"
    }
   ],
   "source": [
    "x.count('string') #counts the number of appeareances of a given string"
   ]
  },
  {
   "cell_type": "code",
   "execution_count": null,
   "metadata": {
    "colab": {},
    "colab_type": "code",
    "id": "t8f9jzZKNdK7",
    "outputId": "bf5e2973-9f51-4fc7-eb9a-23355195f72a"
   },
   "outputs": [
    {
     "data": {
      "text/plain": [
       "'   This is a actual string to show string operations    '"
      ]
     },
     "execution_count": 20,
     "metadata": {
      "tags": []
     },
     "output_type": "execute_result"
    }
   ],
   "source": [
    "x.replace('demo','actual') #replaces old string with the new string"
   ]
  },
  {
   "cell_type": "code",
   "execution_count": 27,
   "metadata": {
    "colab": {},
    "colab_type": "code",
    "executionInfo": {
     "elapsed": 1096,
     "status": "ok",
     "timestamp": 1599709578469,
     "user": {
      "displayName": "Alok Yadav",
      "photoUrl": "https://lh3.googleusercontent.com/a-/AOh14GizZFMCB8-eVvEF7cC9zt8SGXsUNNmSz3Ka92VAXw=s64",
      "userId": "13695401162967392961"
     },
     "user_tz": -330
    },
    "id": "Tek2P6SRNdLA"
   },
   "outputs": [],
   "source": [
    "p = x.split() #split the give string and returns a list "
   ]
  },
  {
   "cell_type": "code",
   "execution_count": 28,
   "metadata": {
    "colab": {
     "base_uri": "https://localhost:8080/",
     "height": 54
    },
    "colab_type": "code",
    "executionInfo": {
     "elapsed": 1008,
     "status": "ok",
     "timestamp": 1599709581081,
     "user": {
      "displayName": "Alok Yadav",
      "photoUrl": "https://lh3.googleusercontent.com/a-/AOh14GizZFMCB8-eVvEF7cC9zt8SGXsUNNmSz3Ka92VAXw=s64",
      "userId": "13695401162967392961"
     },
     "user_tz": -330
    },
    "id": "BnQsqqXgXrET",
    "outputId": "ae82b447-31be-4ffe-bac6-6605366b10bf"
   },
   "outputs": [
    {
     "data": {
      "text/plain": [
       "['This', 'is', 'a', 'demo', 'string', 'to', 'show', 'string', 'operations']"
      ]
     },
     "execution_count": 28,
     "metadata": {
      "tags": []
     },
     "output_type": "execute_result"
    }
   ],
   "source": [
    "p"
   ]
  },
  {
   "cell_type": "code",
   "execution_count": 36,
   "metadata": {
    "colab": {
     "base_uri": "https://localhost:8080/",
     "height": 35
    },
    "colab_type": "code",
    "executionInfo": {
     "elapsed": 1004,
     "status": "ok",
     "timestamp": 1599709692484,
     "user": {
      "displayName": "Alok Yadav",
      "photoUrl": "https://lh3.googleusercontent.com/a-/AOh14GizZFMCB8-eVvEF7cC9zt8SGXsUNNmSz3Ka92VAXw=s64",
      "userId": "13695401162967392961"
     },
     "user_tz": -330
    },
    "id": "beuxldTiNdLJ",
    "outputId": "7e6109b3-fbd4-4add-9f5f-37c727bc5f9a"
   },
   "outputs": [
    {
     "data": {
      "application/vnd.google.colaboratory.intrinsic+json": {
       "type": "string"
      },
      "text/plain": [
       "'This--is--a--demo--string--to--show--string--operations'"
      ]
     },
     "execution_count": 36,
     "metadata": {
      "tags": []
     },
     "output_type": "execute_result"
    }
   ],
   "source": [
    "'--'.join(p) #joins the splittede  elements by the delimiter given"
   ]
  },
  {
   "cell_type": "code",
   "execution_count": 46,
   "metadata": {
    "colab": {
     "base_uri": "https://localhost:8080/",
     "height": 35
    },
    "colab_type": "code",
    "executionInfo": {
     "elapsed": 979,
     "status": "ok",
     "timestamp": 1599710093973,
     "user": {
      "displayName": "Alok Yadav",
      "photoUrl": "https://lh3.googleusercontent.com/a-/AOh14GizZFMCB8-eVvEF7cC9zt8SGXsUNNmSz3Ka92VAXw=s64",
      "userId": "13695401162967392961"
     },
     "user_tz": -330
    },
    "id": "5ceclJ2fEchb",
    "outputId": "a6493033-8adf-428e-8c11-f6bfe5cb28ab"
   },
   "outputs": [
    {
     "data": {
      "application/vnd.google.colaboratory.intrinsic+json": {
       "type": "string"
      },
      "text/plain": [
       "'This is a demo string to show string operations'"
      ]
     },
     "execution_count": 46,
     "metadata": {
      "tags": []
     },
     "output_type": "execute_result"
    }
   ],
   "source": [
    "' '.join(p)"
   ]
  },
  {
   "cell_type": "code",
   "execution_count": 51,
   "metadata": {
    "colab": {
     "base_uri": "https://localhost:8080/",
     "height": 34
    },
    "colab_type": "code",
    "executionInfo": {
     "elapsed": 980,
     "status": "ok",
     "timestamp": 1599710450008,
     "user": {
      "displayName": "Alok Yadav",
      "photoUrl": "https://lh3.googleusercontent.com/a-/AOh14GizZFMCB8-eVvEF7cC9zt8SGXsUNNmSz3Ka92VAXw=s64",
      "userId": "13695401162967392961"
     },
     "user_tz": -330
    },
    "id": "6P7VSEvjKVzO",
    "outputId": "82f8014f-7714-4b5c-eafd-c56b96eb4628"
   },
   "outputs": [
    {
     "name": "stdout",
     "output_type": "stream",
     "text": [
      "n\n"
     ]
    }
   ],
   "source": [
    "print(y[-2:-1])"
   ]
  },
  {
   "cell_type": "code",
   "execution_count": 47,
   "metadata": {
    "colab": {
     "base_uri": "https://localhost:8080/",
     "height": 86
    },
    "colab_type": "code",
    "executionInfo": {
     "elapsed": 930,
     "status": "ok",
     "timestamp": 1599710251024,
     "user": {
      "displayName": "Alok Yadav",
      "photoUrl": "https://lh3.googleusercontent.com/a-/AOh14GizZFMCB8-eVvEF7cC9zt8SGXsUNNmSz3Ka92VAXw=s64",
      "userId": "13695401162967392961"
     },
     "user_tz": -330
    },
    "id": "3cNRu7nnNdLX",
    "outputId": "f9c32ec0-bd39-4681-aebe-4abedb577a9e"
   },
   "outputs": [
    {
     "name": "stdout",
     "output_type": "stream",
     "text": [
      "This is a demo string to show string operations\n",
      "This \n",
      "operations\n",
      "This is a demo string to show string operation\n"
     ]
    }
   ],
   "source": [
    "#Slicing: (Start:stop:step)\n",
    "#Gives a part of a string it takes three values, bascially the start is the starting point of the string (default is index 0 )\n",
    "#Stop is the ending point of part if not given default is the last of the string\n",
    "#value of step by default is 1\n",
    "y ='This is a demo string to show string operations'\n",
    "#    0123456789\n",
    "print (y[0:])\n",
    "print (y[0:5])\n",
    "print (y[-10:])\n",
    "print (y[:-1])"
   ]
  },
  {
   "cell_type": "code",
   "execution_count": null,
   "metadata": {
    "colab": {
     "base_uri": "https://localhost:8080/",
     "height": 35
    },
    "colab_type": "code",
    "executionInfo": {
     "elapsed": 1283,
     "status": "ok",
     "timestamp": 1582693560905,
     "user": {
      "displayName": "Alok Yadav",
      "photoUrl": "https://lh3.googleusercontent.com/a-/AAuE7mCoOPX57BUgY2lDZ55QM_P9IlAdFR6kykkAi76Yaw=s64",
      "userId": "13695401162967392961"
     },
     "user_tz": -330
    },
    "id": "PdAEBr2O4eGn",
    "outputId": "9deec562-78de-44f6-f9c6-e9a5480341f2"
   },
   "outputs": [
    {
     "name": "stdout",
     "output_type": "stream",
     "text": [
      " show\n"
     ]
    }
   ],
   "source": [
    "print( y[-23:-18])"
   ]
  },
  {
   "cell_type": "markdown",
   "metadata": {
    "colab_type": "text",
    "id": "WGITPFhvNdLe"
   },
   "source": [
    "#### Comments in python"
   ]
  },
  {
   "cell_type": "code",
   "execution_count": null,
   "metadata": {
    "colab": {},
    "colab_type": "code",
    "id": "V1Zp2THyNdLm"
   },
   "outputs": [],
   "source": [
    "#In python comments are given by # and ''' '''.\n",
    "#for single line comment we use (#)\n",
    "#for multi-line comments we use (''' ''')\n",
    "#Comments are generally given to add some message with the code. Comments are not executed during execution of the code"
   ]
  },
  {
   "cell_type": "markdown",
   "metadata": {
    "colab_type": "text",
    "id": "Cz1_gMqSNdLt"
   },
   "source": [
    "###### Practise Questions:"
   ]
  },
  {
   "cell_type": "code",
   "execution_count": null,
   "metadata": {
    "colab": {},
    "colab_type": "code",
    "id": "OdFyl9EcNdLw"
   },
   "outputs": [],
   "source": [
    "# print the result of 10 + 5\n",
    "# calculate the percentage 20 / 25\n",
    "\n",
    "# for string 'I am learning python'\n",
    "## convert whole string to upper case\n",
    "## find the index of the start of 'python'\n",
    "## count the number of occurance of 'python'\n",
    "## split the string with spaces.\n",
    "## join the above string (splited) with '/'\n",
    "## slice only the 'python' part"
   ]
  }
 ],
 "metadata": {
  "colab": {
   "name": "Session_1.ipynb",
   "provenance": []
  },
  "kernelspec": {
   "display_name": "Python 3",
   "language": "python",
   "name": "python3"
  },
  "language_info": {
   "codemirror_mode": {
    "name": "ipython",
    "version": 3
   },
   "file_extension": ".py",
   "mimetype": "text/x-python",
   "name": "python",
   "nbconvert_exporter": "python",
   "pygments_lexer": "ipython3",
   "version": "3.7.4"
  },
  "latex_envs": {
   "LaTeX_envs_menu_present": true,
   "autoclose": false,
   "autocomplete": true,
   "bibliofile": "biblio.bib",
   "cite_by": "apalike",
   "current_citInitial": 1,
   "eqLabelWithNumbers": true,
   "eqNumInitial": 1,
   "hotkeys": {
    "equation": "Ctrl-E",
    "itemize": "Ctrl-I"
   },
   "labels_anchors": false,
   "latex_user_defs": false,
   "report_style_numbering": false,
   "user_envs_cfg": false
  },
  "toc": {
   "base_numbering": 1,
   "nav_menu": {},
   "number_sections": true,
   "sideBar": true,
   "skip_h1_title": false,
   "title_cell": "Table of Contents",
   "title_sidebar": "Contents",
   "toc_cell": false,
   "toc_position": {},
   "toc_section_display": true,
   "toc_window_display": false
  },
  "varInspector": {
   "cols": {
    "lenName": 16,
    "lenType": 16,
    "lenVar": 40
   },
   "kernels_config": {
    "python": {
     "delete_cmd_postfix": "",
     "delete_cmd_prefix": "del ",
     "library": "var_list.py",
     "varRefreshCmd": "print(var_dic_list())"
    },
    "r": {
     "delete_cmd_postfix": ") ",
     "delete_cmd_prefix": "rm(",
     "library": "var_list.r",
     "varRefreshCmd": "cat(var_dic_list()) "
    }
   },
   "types_to_exclude": [
    "module",
    "function",
    "builtin_function_or_method",
    "instance",
    "_Feature"
   ],
   "window_display": false
  }
 },
 "nbformat": 4,
 "nbformat_minor": 1
}
